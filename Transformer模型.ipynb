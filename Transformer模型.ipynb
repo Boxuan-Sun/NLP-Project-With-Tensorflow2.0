{
 "cells": [
  {
   "cell_type": "code",
   "execution_count": 2,
   "metadata": {},
   "outputs": [],
   "source": [
    "import tensorflow as tf\n",
    "import tensorflow_datasets as tfds\n",
    "import numpy as np\n",
    "import matplotlib.pyplot as plt\n",
    "import time"
   ]
  },
  {
   "cell_type": "markdown",
   "metadata": {},
   "source": [
    "# 设置输入流水线（input pipeline）"
   ]
  },
  {
   "cell_type": "markdown",
   "metadata": {},
   "source": [
    "使用TFDS导入葡萄牙语-英语翻译数据集，包含50000条训练样本，1100条验证样本，2000条测试样本"
   ]
  },
  {
   "cell_type": "code",
   "execution_count": 3,
   "metadata": {},
   "outputs": [],
   "source": [
    "# as_supervised: \n",
    "# bool, if True, the returned tf.data.Dataset will have a 2-tuple structure (input, label) according to builder.info.supervised_keys. \n",
    "# If False, the default, the returned tf.data.Dataset will have a dictionary with all the features.\n",
    "# with_info: \n",
    "# bool, if True, tfds.load will return the tuple (tf.data.Dataset, tfds.core.DatasetInfo) containing the info associated with the builder.\n",
    "examples,metadata=tfds.load('ted_hrlr_translate/pt_to_en',with_info=True,as_supervised=True)\n",
    "train_examples,val_examples=examples['train'],examples['validation']"
   ]
  },
  {
   "cell_type": "markdown",
   "metadata": {},
   "source": [
    "## 创建子词分词器(subwords tokenizer)"
   ]
  },
  {
   "cell_type": "markdown",
   "metadata": {},
   "source": [
    "Note: To generate a vocabulary from a corpus(语料库）, use tfds.features.text.SubwordTextEncoder.build_from_corpus.\n",
    "\n",
    "```\n",
    "build_from_corpus(\n",
    "    cls,\n",
    "    corpus_generator,\n",
    "    target_vocab_size,\n",
    "    max_subword_length=20,\n",
    "    max_corpus_chars=None,\n",
    "    reserved_tokens=None\n",
    ")\n",
    "```\n",
    "- corpus_generator: generator yielding str, from which subwords will be constructed.\n",
    "- target_vocab_size: int, approximate size of the vocabulary to create.\n"
   ]
  },
  {
   "cell_type": "code",
   "execution_count": 4,
   "metadata": {},
   "outputs": [],
   "source": [
    "tokenizer_en=tfds.features.text.SubwordTextEncoder.build_from_corpus(\n",
    "    (en.numpy() for pt,en in train_examples),target_vocab_size=2**13)\n",
    "tokenizer_pt = tfds.features.text.SubwordTextEncoder.build_from_corpus(\n",
    "    (pt.numpy() for pt, en in train_examples),target_vocab_size=2**13)"
   ]
  },
  {
   "cell_type": "code",
   "execution_count": 5,
   "metadata": {},
   "outputs": [
    {
     "name": "stdout",
     "output_type": "stream",
     "text": [
      "Tokenized string is [7915, 1248, 7946, 7194, 13, 2799, 859]\n",
      "Origin string is Transformer is awesome !\n"
     ]
    }
   ],
   "source": [
    "sample_string='Transformer is awesome !'\n",
    "\n",
    "tokenized_string=tokenizer_en.encode(sample_string)\n",
    "\n",
    "print(f'Tokenized string is {tokenized_string}')\n",
    "\n",
    "origin_string=tokenizer_en.decode(tokenized_string)\n",
    "\n",
    "print(f'Origin string is {origin_string}')"
   ]
  },
  {
   "cell_type": "code",
   "execution_count": 6,
   "metadata": {},
   "outputs": [
    {
     "name": "stdout",
     "output_type": "stream",
     "text": [
      "7915 --> T\n",
      "1248 --> ran\n",
      "7946 --> s\n",
      "7194 --> former \n",
      "13 --> is \n",
      "2799 --> awesome\n",
      "859 -->  !\n"
     ]
    }
   ],
   "source": [
    "for s in tokenized_string:\n",
    "    print(f'{s} --> {tokenizer_en.decode([s])}')"
   ]
  },
  {
   "cell_type": "code",
   "execution_count": 7,
   "metadata": {},
   "outputs": [],
   "source": [
    "BUFFER_SIZE=20000\n",
    "BATCH_SIZE=64"
   ]
  },
  {
   "cell_type": "markdown",
   "metadata": {},
   "source": [
    "添加开始与结束标记，我们可以使用数字编码vocab_size作为start的数字编码，vocab_size+1作为end的数字编码"
   ]
  },
  {
   "cell_type": "code",
   "execution_count": 8,
   "metadata": {},
   "outputs": [],
   "source": [
    "def encode(inputs,targets):\n",
    "    # 注意inputs，targets都是tensor\n",
    "    inputs=[tokenizer_pt.vocab_size]+tokenizer_pt.encode(inputs.numpy())+[tokenizer_pt.vocab_size+1]\n",
    "    targets=[tokenizer_en.vocab_size]+tokenizer_en.encode(targets.numpy())+[tokenizer_en.vocab_size+1]\n",
    "    return inputs,targets"
   ]
  },
  {
   "cell_type": "markdown",
   "metadata": {},
   "source": [
    "为了加快训练，删除长度超过40的数据"
   ]
  },
  {
   "cell_type": "code",
   "execution_count": 9,
   "metadata": {},
   "outputs": [],
   "source": [
    "MAX_LENGTH=40"
   ]
  },
  {
   "cell_type": "code",
   "execution_count": 10,
   "metadata": {},
   "outputs": [],
   "source": [
    "def filter_max_length(x,y,max_length=MAX_LENGTH):\n",
    "    return tf.logical_and(tf.size(x)<=max_length,tf.size(y)<=max_length)"
   ]
  },
  {
   "cell_type": "markdown",
   "metadata": {},
   "source": [
    ".map() 内部的操作以图模式（graph mode）运行，.map() 接收一个不具有 numpy 属性的图张量（graph tensor）。该分词器（tokenizer）需要将一个字符串或 Unicode 符号，编码成整数。因此，您需要在 tf.py_function 内部运行编码过程，tf.py_function 接收一个 eager 张量，该 eager 张量有一个包含字符串值的 numpy 属性。"
   ]
  },
  {
   "cell_type": "markdown",
   "metadata": {},
   "source": [
    "tf.py_function:Wraps a python function into a TensorFlow op that executes it eagerly.\n",
    "```\n",
    "tf.py_function(\n",
    "    func,\n",
    "    inp,\n",
    "    Tout,\n",
    "    name=None\n",
    ")\n",
    "```"
   ]
  },
  {
   "cell_type": "code",
   "execution_count": 11,
   "metadata": {},
   "outputs": [],
   "source": [
    "def tf_encode(pt,en):\n",
    "    result_pt,result_en=tf.py_function(encode,[pt,en],[tf.int64,tf.int64])\n",
    "    result_pt.set_shape([None])\n",
    "    result_en.set_shape([None])\n",
    "    return result_pt,result_en"
   ]
  },
  {
   "cell_type": "code",
   "execution_count": 12,
   "metadata": {},
   "outputs": [],
   "source": [
    "# train_dataset = train_examples.map(encode) 报错： AttributeError: 'Tensor' object has no attribute 'numpy'\n",
    "train_dataset=train_examples.map(tf_encode)\n",
    "\n",
    "# dataset = tf.data.Dataset.from_tensor_slices([1, 2, 3]) \n",
    "# dataset = dataset.filter(lambda x: x < 3) \n",
    "# list(dataset.as_numpy_iterator()) \n",
    "# [1,2]\n",
    "# 依照filter——max——length的规则过滤内部元素\n",
    "train_dataset=train_dataset.filter(filter_max_length)\n",
    "train_dataset=train_dataset.shuffle(BUFFER_SIZE).padded_batch(BATCH_SIZE,padded_shapes=([-1],[-1]))\n",
    "# 预读取一些元素，改善等待时间和加大吞吐量\n",
    "# train_dataset = train_dataset.prefetch(tf.data.experimental.AUTOTUNE)\n",
    "\n",
    "\n",
    "val_dataset = val_examples.map(tf_encode)\n",
    "val_dataset = val_dataset.filter(filter_max_length).padded_batch(BATCH_SIZE,padded_shapes=([-1],[-1]))\n"
   ]
  },
  {
   "cell_type": "code",
   "execution_count": 13,
   "metadata": {},
   "outputs": [
    {
     "data": {
      "text/plain": [
       "(<tf.Tensor: shape=(64, 40), dtype=int64, numpy=\n",
       " array([[8214,   32,  294, ...,    0,    0,    0],\n",
       "        [8214, 2119, 8003, ...,    0,    0,    0],\n",
       "        [8214,  227,  343, ...,    0,    0,    0],\n",
       "        ...,\n",
       "        [8214,  113,    3, ...,    0,    0,    0],\n",
       "        [8214, 3785,    7, ...,    0,    0,    0],\n",
       "        [8214, 2395,  132, ...,    0,    0,    0]])>,\n",
       " <tf.Tensor: shape=(64, 38), dtype=int64, numpy=\n",
       " array([[8087,   14,   22, ...,    0,    0,    0],\n",
       "        [8087,  105,    8, ...,    0,    0,    0],\n",
       "        [8087, 7936,    8, ...,    0,    0,    0],\n",
       "        ...,\n",
       "        [8087,   63,    8, ...,    0,    0,    0],\n",
       "        [8087,    3, 1046, ...,    0,    0,    0],\n",
       "        [8087,   17,  149, ...,    0,    0,    0]])>)"
      ]
     },
     "execution_count": 13,
     "metadata": {},
     "output_type": "execute_result"
    }
   ],
   "source": [
    "pt_batch, en_batch = next(iter(train_dataset))\n",
    "pt_batch, en_batch"
   ]
  },
  {
   "cell_type": "markdown",
   "metadata": {},
   "source": [
    "## 位置编码（Positional encoding）"
   ]
  },
  {
   "cell_type": "markdown",
   "metadata": {},
   "source": [
    "为了考虑输入序列中单词的词序，添加一个位置编码。\n",
    "位置编码向量被加入到嵌入向量（Embedding Vector）中。嵌入表示一个 d 维空间的标记，在 d 维空间中有着相似含义的标记会离彼此更近。但是，嵌入并没有对在一句话中的词的相对位置进行编码。因此，当加上位置编码后，词将基于它们含义的相似度以及它们在句子中的位置，在 d 维空间中离彼此更近。\n",
    "位置编码公式如下：\n",
    "$$\\Large{PE_{(pos, 2i)} = sin(pos / 10000^{2i / d_{model}})} $$\n",
    "$$\\Large{PE_{(pos, 2i+1)} = cos(pos / 10000^{2i / d_{model}})} $$"
   ]
  },
  {
   "cell_type": "code",
   "execution_count": 14,
   "metadata": {},
   "outputs": [],
   "source": [
    "def get_angles(pos,i,d_model):\n",
    "    angle_rates=1/np.power(10000,(2*i//2)/np.float32(d_model))\n",
    "    return pos*angle_rates"
   ]
  },
  {
   "cell_type": "code",
   "execution_count": 79,
   "metadata": {},
   "outputs": [],
   "source": [
    "def positional_encoding(postion,d_model):\n",
    "    angle_rads=get_angles(np.arange(postion)[:,np.newaxis],\n",
    "                         np.arange(d_model)[np.newaxis,:],d_model)\n",
    "    # 将sin应用于数组的偶数位置\n",
    "    angle_rads[:,::2]=np.sin(angle_rads[:,::2])\n",
    "    # 将cos应用于数组的奇数位置\n",
    "    angle_rads[:, 1::2] = np.cos(angle_rads[:, 1::2])\n",
    "    \n",
    "    pos_encoding = angle_rads[np.newaxis, ...]\n",
    "    \n",
    "    return tf.cast(pos_encoding, dtype=tf.float32)"
   ]
  },
  {
   "cell_type": "code",
   "execution_count": 80,
   "metadata": {},
   "outputs": [
    {
     "name": "stdout",
     "output_type": "stream",
     "text": [
      "(1, 50, 512)\n"
     ]
    },
    {
     "data": {
      "image/png": "[encoded data removed]",
      "text/plain": [
       "<Figure size 432x288 with 2 Axes>"
      ]
     },
     "metadata": {
      "needs_background": "light"
     },
     "output_type": "display_data"
    }
   ],
   "source": [
    "pos_encoding = positional_encoding(50, 512)\n",
    "print (pos_encoding.shape)\n",
    "\n",
    "plt.pcolormesh(pos_encoding[0], cmap='RdBu')\n",
    "plt.xlabel('Depth')\n",
    "plt.xlim((0, 512))\n",
    "plt.ylabel('Position')\n",
    "plt.colorbar()\n",
    "plt.show()"
   ]
  },
  {
   "cell_type": "markdown",
   "metadata": {},
   "source": [
    "## 遮挡（Masking）"
   ]
  },
  {
   "cell_type": "markdown",
   "metadata": {},
   "source": [
    "遮挡一批序列中所有的填充标记（pad tokens）。这确保了模型不会将填充作为输入。该 mask 表明填充值 0 出现的位置：在这些位置 mask 输出 1，否则输出 0。"
   ]
  },
  {
   "cell_type": "code",
   "execution_count": 24,
   "metadata": {},
   "outputs": [],
   "source": [
    "def create_padding_mask(seq):\n",
    "    seq=tf.cast(tf.math.equal(seq,0),tf.float32)\n",
    "    # 添加额外的维度来将pad加到注意力对数（logits）\n",
    "    return seq[:,tf.newaxis,tf.newaxis,:]\n"
   ]
  },
  {
   "cell_type": "code",
   "execution_count": 25,
   "metadata": {},
   "outputs": [
    {
     "data": {
      "text/plain": [
       "<tf.Tensor: shape=(3, 1, 1, 5), dtype=float32, numpy=\n",
       "array([[[[0., 0., 0., 1., 1.]]],\n",
       "\n",
       "\n",
       "       [[[1., 1., 0., 0., 0.]]],\n",
       "\n",
       "\n",
       "       [[[0., 1., 0., 0., 1.]]]], dtype=float32)>"
      ]
     },
     "execution_count": 25,
     "metadata": {},
     "output_type": "execute_result"
    }
   ],
   "source": [
    "x=tf.constant([[1,2,3,0,0],[0,0,4,5,3],[2,0,10,3,0]])\n",
    "create_padding_mask(x)"
   ]
  },
  {
   "cell_type": "markdown",
   "metadata": {},
   "source": [
    "创建前沿遮挡（look-ahead-mask）。在预测的时候，我们只使用之前的单词，我们用改mask遮挡后续的标记。\n",
    "如我们在预测第三个单词，只使用第一个，第二个单词，而不使用后面的，我们需要将后面的单词mask"
   ]
  },
  {
   "cell_type": "code",
   "execution_count": 26,
   "metadata": {},
   "outputs": [],
   "source": [
    "def create_look_ahead_mask(size):\n",
    "    mask=1-tf.linalg.band_part(tf.ones((size,size)),-1,0)\n",
    "    return mask "
   ]
  },
  {
   "cell_type": "code",
   "execution_count": 168,
   "metadata": {},
   "outputs": [
    {
     "data": {
      "text/plain": [
       "<tf.Tensor: shape=(5, 5), dtype=float32, numpy=\n",
       "array([[0., 1., 1., 1., 1.],\n",
       "       [0., 0., 1., 1., 1.],\n",
       "       [0., 0., 0., 1., 1.],\n",
       "       [0., 0., 0., 0., 1.],\n",
       "       [0., 0., 0., 0., 0.]], dtype=float32)>"
      ]
     },
     "execution_count": 168,
     "metadata": {},
     "output_type": "execute_result"
    }
   ],
   "source": [
    "create_look_ahead_mask(size=5)"
   ]
  },
  {
   "cell_type": "markdown",
   "metadata": {},
   "source": [
    "## 自注意力（self-attention）"
   ]
  },
  {
   "cell_type": "markdown",
   "metadata": {},
   "source": [
    "![self_attention](./pic/transformer1.png)"
   ]
  },
  {
   "cell_type": "markdown",
   "metadata": {},
   "source": [
    "Transformer 使用的注意力函数有三个输入：Q（请求（query））、K（主键（key））、V（数值（value））。用于计算注意力权重的等式为："
   ]
  },
  {
   "cell_type": "markdown",
   "metadata": {},
   "source": [
    "$$\\Large{Attention(Q, K, V) = softmax_k(\\frac{QK^T}{\\sqrt{d_k}}) V} $$\n"
   ]
  },
  {
   "cell_type": "markdown",
   "metadata": {},
   "source": [
    "dk是向量的维度，点积注意力被缩小了维度的平方根倍。这样做是因为对于较大的维度值，点积的大小会增大，从而推动 softmax 函数往仅有很小的梯度的方向靠拢，导致了一种很硬的（hard）softmax。\n",
    "\n",
    "例如，假设 Q 和 K 的均值为0，方差为1。它们的矩阵乘积将有均值为0，方差为 dk。因此，dk 的平方根被用于缩放（而非其他数值），因为，Q 和 K 的矩阵乘积的均值本应该为 0，方差本应该为1，这样会获得一个更平缓的 softmax。\n",
    "\n",
    "遮挡（mask）与 -1e9（接近于负无穷）相乘。这样做是因为遮挡与缩放的 Q 和 K 的矩阵乘积相加，并在 softmax 之前立即应用。目标是将这些单元归零，因为 softmax 的较大负数输入在输出中接近于零。"
   ]
  },
  {
   "cell_type": "markdown",
   "metadata": {},
   "source": [
    "![self-attention](./pic/transformer2.png)"
   ]
  },
  {
   "cell_type": "code",
   "execution_count": 30,
   "metadata": {},
   "outputs": [],
   "source": [
    "def self_attention(q,k,v,mask):\n",
    "    '''\n",
    "    q, k, v 必须具有匹配的前置维度。\n",
    "  k, v 必须有匹配的倒数第二个维度，例如：seq_len_k = seq_len_v。\n",
    "  虽然 mask 根据其类型（填充或前瞻）有不同的形状，\n",
    "  但是 mask 必须能进行广播转换以便求和。\n",
    "  \n",
    "  参数:\n",
    "    q: 查询的形状 == (..., seq_len_q, depth)\n",
    "    k: 主键的形状 == (..., seq_len_k, depth)\n",
    "    v: 数值的形状 == (..., seq_len_v, depth_v)\n",
    "    mask: Float 张量，其形状能转换成\n",
    "          (..., seq_len_q, seq_len_k)。默认为None。\n",
    "    \n",
    "  返回值:\n",
    "    输出，注意力权重\n",
    "    '''\n",
    "    # tanspose_b=True  即 q @ k.T（转秩）\n",
    "    mutmul_qk=tf.matmul(q,k,transpose_b=True) # (..., seq_len_q, seq_len_k)\n",
    "    \n",
    "    #  缩放\n",
    "    dk=tf.cast(tf.shape(k)[-1],tf.float32)\n",
    "    scaled_attention_logits=mutmul_qk/tf.math.sqrt(dk)\n",
    "    \n",
    "     # 进行mask\n",
    "    if mask is not None:\n",
    "        # 注意在mask中，填充0的位置对应是1\n",
    "        # 1* -1e9 变为负无穷，计算出来的attention-logits中0位置加上负无穷\n",
    "        # 在之后softmax中负无穷位置权重得分接近0，可以忽略\n",
    "        # 这样就实现了对0的mask\n",
    "        scaled_attention_logits+=(mask*-1e9)\n",
    "    \n",
    "    # 进行softmax计算得分，在最后一个轴上\n",
    "    # 得到每个单词对句子中各个单词的关注度\n",
    "    attention_weights=tf.nn.softmax(scaled_attention_logits,axis=-1) # (..., seq_len_q, seq_len_k)\n",
    "    # 输出表示注意力权重和 V（数值）向量的乘积。这确保了要关注的词保持原样，而无关的词将被清除掉。\n",
    "    output=tf.matmul(attention_weights,v)  # (..., seq_len_q, depth_v)\n",
    "    \n",
    "    return output,attention_weights\n",
    "   \n",
    " "
   ]
  },
  {
   "cell_type": "code",
   "execution_count": 32,
   "metadata": {},
   "outputs": [],
   "source": [
    "def print_out(q,k,v):\n",
    "    temp_out,temp_attn=self_attention(q,k,v,None)\n",
    "    print('attention weights are:')\n",
    "    print(temp_attn)\n",
    "    print('output is:')\n",
    "    print(temp_out)"
   ]
  },
  {
   "cell_type": "code",
   "execution_count": 41,
   "metadata": {},
   "outputs": [
    {
     "name": "stdout",
     "output_type": "stream",
     "text": [
      "attention weights are:\n",
      "tf.Tensor(\n",
      "[[0.  0.  0.5 0.5]\n",
      " [0.  1.  0.  0. ]\n",
      " [0.5 0.5 0.  0. ]], shape=(3, 4), dtype=float32)\n",
      "output is:\n",
      "tf.Tensor(\n",
      "[[550.    5.5]\n",
      " [ 10.    0. ]\n",
      " [  5.5   0. ]], shape=(3, 2), dtype=float32)\n"
     ]
    }
   ],
   "source": [
    "np.set_printoptions(suppress=True)\n",
    "\n",
    "temp_k = tf.constant([[10,0,0],\n",
    "                      [0,10,0],\n",
    "                      [0,6,10],\n",
    "                      [0,0,10]], dtype=tf.float32)  # (4, 3)\n",
    "\n",
    "temp_v = tf.constant([[   1,0],\n",
    "                      [  10,0],\n",
    "                      [ 100,5],\n",
    "                      [1000,6]], dtype=tf.float32)  # (4, 2)\n",
    "\n",
    "temp_q = tf.constant([[0, 0, 10], [0, 10, 0], [10, 10, 0]], dtype=tf.float32)  # (1, 3)\n",
    "print_out(temp_q, temp_k, temp_v)"
   ]
  },
  {
   "cell_type": "markdown",
   "metadata": {},
   "source": [
    "## 多头注意力（Multi-head attention）"
   ]
  },
  {
   "cell_type": "markdown",
   "metadata": {},
   "source": [
    "![](./pic/transformer3.png)"
   ]
  },
  {
   "cell_type": "markdown",
   "metadata": {},
   "source": [
    "多头注意力由四部分组成：\n",
    "\n",
    "- 线性层并分拆成多头。\n",
    "- 按比缩放的点积自注意力。\n",
    "- 多头连接。\n",
    "- 最后一层线性层。\n",
    "每个多头注意力块有三个输入：Q（请求）、K（主键）、V（数值）。这些输入经过线性（Dense）层，并分拆成多头。\n",
    "\n",
    "将上面定义的 self_attention 函数应用于每个头（进行了广播（broadcasted）以提高效率）。注意力这步必须使用一个恰当的 mask。然后将每个头的注意力输出连接起来（用tf.transpose 和 tf.reshape），并放入最后的 Dense 层。\n",
    "\n",
    "Q、K、和 V 被拆分到了多个头，而非单个的注意力头，因为多头允许模型共同注意来自不同表示空间的不同位置的信息。在分拆后，每个头部的维度减少，因此总的计算成本与有着全部维度的单个注意力头相同。"
   ]
  },
  {
   "cell_type": "markdown",
   "metadata": {},
   "source": [
    "通过使用“Multi-headed”的机制来进一步完善self attention层。“Multi-headed”主要通过下面2中方式改善了attention层的性能：\n",
    "\n",
    "1. 它拓展了模型关注不同位置的能力。在上面例子中可以看出，”The animal didn't cross the street because it was too tired”，我们的attention机制计算出“it”指代的为“animal”，这在对语言的理解过程中是很有用的。\n",
    "\n",
    "2. 它为attention层提供了多个“representation subspaces”。在self attention中，我们有多个个Query / Key / Value权重矩阵（Transformer使用8个attention heads）。这些集合中的每个矩阵都是随机初始化生成的。然后通过训练，用于将词嵌入（或者来自较低Encoder/Decoder的矢量）投影到不同的“representation subspaces（表示子空间）”中。"
   ]
  },
  {
   "cell_type": "code",
   "execution_count": 58,
   "metadata": {},
   "outputs": [],
   "source": [
    "class MultiHeadAttention(tf.keras.layers.Layer):\n",
    "    def __init__(self,d_model,num_heads):\n",
    "        super(MultiHeadAttention,self).__init__()\n",
    "        self.num_heads=num_heads\n",
    "        self.d_model=d_model\n",
    "        \n",
    "        assert d_model%num_heads==0\n",
    "        self.depth=d_model//self.num_heads\n",
    "        \n",
    "        self.wq=tf.keras.layers.Dense(d_model)\n",
    "        self.wk=tf.keras.layers.Dense(d_model)\n",
    "        self.wv=tf.keras.layers.Dense(d_model)\n",
    "        self.dense=tf.keras.layers.Dense(d_model)\n",
    "        \n",
    "    def split_heads(self,x,batch_size):\n",
    "        '''\n",
    "        拆分最后一个维度到（num-heads，depth）\n",
    "        转置之后性转为（batch-size，num-heads，seq-len，depth）\n",
    "        '''\n",
    "        # x传入时维度（batch-size，seq-len，d-model）\n",
    "        # reshape之后（batch-size，seq-len，num-heads，depth）\n",
    "        x=tf.reshape(x,(batch_size,-1,self.num_heads,self.depth))\n",
    "#         example：\n",
    "#         input_data.dims = (1, 4, 3)\n",
    "#         perm = [1, 2, 0]\n",
    "#         因为 output_data.dims[0] = input_data.dims[ perm[0] ]\n",
    "#         因为 output_data.dims[1] = input_data.dims[ perm[1] ]\n",
    "#         因为 output_data.dims[2] = input_data.dims[ perm[2] ]\n",
    "#         所以得到 output_data.dims = (4, 3, 1)\n",
    "#         output_data.dims = (4, 3, 1)\n",
    "        return tf.transpose(x,perm=[0,2,1,3])# 交换第1个（seq-len）和第二个维度（num-heads）\n",
    "   \n",
    "    \n",
    "    def call(self,v,k,q,mask):\n",
    "        batch_size=tf.shape(q)[0]\n",
    "        \n",
    "        #wq,wk,wv是我们需要训练的三个权重矩阵\n",
    "        v=self.wv(v) # (batch_size, seq_len, d_model)\n",
    "        k=self.wk(k) # (batch_size, seq_len, d_model)\n",
    "        q=self.wq(q) # (batch_size, seq_len, d_model)\n",
    "        \n",
    "        v = self.split_heads(v, batch_size)  # (batch_size, num_heads, seq_len_v, depth)\n",
    "        k = self.split_heads(k, batch_size)  # (batch_size, num_heads, seq_len_k, depth)\n",
    "        q = self.split_heads(q, batch_size)  # (batch_size, num_heads, seq_len_q, depth)\n",
    "        \n",
    "    \n",
    "        # scaled_attention.shape=(batch_size,nums_heads,seq_len_q,depth)\n",
    "        # 注意因为是多头， num-heads*depth=d-model\n",
    "        scaled_attention,attention_weights=self_attention(q,k,v,mask)\n",
    "        \n",
    "        scaled_attention=tf.transpose(scaled_attention,perm=[0,2,1,3])# (batch_size,seq_len_q,num_heads,depth)\n",
    "        \n",
    "        concat_attention=tf.reshape(scaled_attention,(batch_size,-1,self.d_model))#(batch_size,seq_len_q,d_model)\n",
    "        \n",
    "        output=self.dense(concat_attention) # (batch_size,seq_len_q,d_model)\n",
    "        \n",
    "        return output,attention_weights"
   ]
  },
  {
   "cell_type": "code",
   "execution_count": 59,
   "metadata": {},
   "outputs": [
    {
     "data": {
      "text/plain": [
       "(TensorShape([1, 60, 512]), TensorShape([1, 8, 60, 60]))"
      ]
     },
     "execution_count": 59,
     "metadata": {},
     "output_type": "execute_result"
    }
   ],
   "source": [
    "temp_mha=MultiHeadAttention(512,8)\n",
    "y=tf.random.uniform((1,60,512))# (batch_size, encoder_sequence, d_model)\n",
    "out,attention=temp_mha(y,y,y,None)\n",
    "out.shape,attention.shape"
   ]
  },
  {
   "cell_type": "markdown",
   "metadata": {},
   "source": [
    "## 点式前馈网络（Point wise feed forward network）"
   ]
  },
  {
   "cell_type": "code",
   "execution_count": 60,
   "metadata": {},
   "outputs": [],
   "source": [
    "# 点式潜亏网络由两层全联接层组成，中间由Relu激活函数"
   ]
  },
  {
   "cell_type": "code",
   "execution_count": 64,
   "metadata": {},
   "outputs": [],
   "source": [
    "def point_wise_ffn(d_model,dff):\n",
    "    return tf.keras.Sequential([\n",
    "        tf.keras.layers.Dense(dff,activation='relu'), #(batch_size,seq_len,dff)\n",
    "        tf.keras.layers.Dense(d_model )#(batch_size,seq_len,d_model)\n",
    "    ])"
   ]
  },
  {
   "cell_type": "code",
   "execution_count": 66,
   "metadata": {},
   "outputs": [
    {
     "data": {
      "text/plain": [
       "TensorShape([64, 50, 512])"
      ]
     },
     "execution_count": 66,
     "metadata": {},
     "output_type": "execute_result"
    }
   ],
   "source": [
    "sample_ffn=point_wise_ffn(512,2048)\n",
    "sample_ffn((tf.random.uniform((64,50,512)))).shape"
   ]
  },
  {
   "cell_type": "markdown",
   "metadata": {},
   "source": [
    "## 编码器与解码器（encoder and decoder）\n",
    "    "
   ]
  },
  {
   "cell_type": "markdown",
   "metadata": {},
   "source": [
    "![encoder_decoder](./pic/transformer4.png)\n",
    "输入语句经过N个编码器层，为序列中的每一个单词生成一个输出\n",
    "解码器关注编码器的输出以及自身的输入（自注意力）来预测下一个词"
   ]
  },
  {
   "cell_type": "markdown",
   "metadata": {},
   "source": [
    "### 编码器层"
   ]
  },
  {
   "cell_type": "markdown",
   "metadata": {},
   "source": [
    "每一个编码器层包含一下子层：\n",
    "1. 多头注意力（有填充遮挡）\n",
    "2. 点式前馈网络\n",
    "\n",
    "每个子层在其周围有一个残差连接，然后进行层归一化。残差连接有助于避免深度网络中的梯度消失问题。\n",
    "\n",
    "每个子层的输出是 LayerNorm(x + Sublayer(x))。归一化是在 d_model（最后一个）维度完成的。Transformer 中有 N 个编码器层。"
   ]
  },
  {
   "cell_type": "code",
   "execution_count": 67,
   "metadata": {},
   "outputs": [],
   "source": [
    "class EncoderLayer(tf.keras.layers.Layer):\n",
    "    def __init__(self,d_model,num_heads,dff,rate=0.1):\n",
    "        super(EncoderLayer,self).__init__()\n",
    "        \n",
    "        self.mha=MultiHeadAttention(d_model,num_heads)\n",
    "        self.fnn=point_wise_ffn(d_model,dff)\n",
    "        \n",
    "        # epsilon: Small float added to variance to avoid dividing by zero.\n",
    "        self.layernorm1=tf.keras.layers.LayerNormalization(epsilon=1e-6)\n",
    "        self.layernorm2=tf.keras.layers.LayerNormalization(epsilon=1e-6)\n",
    "        \n",
    "        self.dropout1=tf.keras.layers.Dropout(rate)\n",
    "        self.dropout2=tf.keras.layers.Dropout(rate)\n",
    "        \n",
    "    def call(self,x,training,mask):\n",
    "        attn_output,_=self.mha(x,x,x,mask) # (batch_size, input_seq_len, d_model)\n",
    "#       training: Python boolean indicating whether the layer should behave in training mode (adding dropout) or in inference mode (doing nothing).\n",
    "        attn_output=self.dropout1(attn_output,training=training)\n",
    "        out1=self.layernorm1(x+attn_output) # (batch_size, input_seq_len, d_model)\n",
    "        \n",
    "        fnn_output=self.fnn(out1) # (batch_size, input_seq_len, d_model)\n",
    "        fnn_output=self.dropout2(fnn_output,training=training)\n",
    "        out2=self.layernorm2(out1+fnn_output)# (batch_size, input_seq_len, d_model)\n",
    "        return out2\n"
   ]
  },
  {
   "cell_type": "code",
   "execution_count": 69,
   "metadata": {},
   "outputs": [
    {
     "data": {
      "text/plain": [
       "TensorShape([64, 43, 512])"
      ]
     },
     "execution_count": 69,
     "metadata": {},
     "output_type": "execute_result"
    }
   ],
   "source": [
    "sample_encoder_layer=EncoderLayer(512,8,2048)\n",
    "sample_encoder_layer_output=sample_encoder_layer(tf.random.uniform((64,43,512)),False,None)\n",
    "sample_encoder_layer_output.shape"
   ]
  },
  {
   "cell_type": "markdown",
   "metadata": {},
   "source": [
    "### 解码器层（Decoder layer）"
   ]
  },
  {
   "cell_type": "markdown",
   "metadata": {},
   "source": [
    "解码器层包含一下子层：\n",
    "1. 遮挡的多头注意力（前瞻遮挡和填充遮挡） \n",
    "2. 多头注意力（填充遮挡）。V（数值）和 K（主键）接收编码器输出作为输入。Q（请求）接收遮挡的多头注意力子层的输出。\n",
    "3. 点式前馈网络\n",
    "\n",
    "每个子层在其周围有一个残差连接，然后进行层归一化。每个子层的输出是 LayerNorm(x + Sublayer(x))。归一化是在 d_model（最后一个）维度完成的。\n",
    "\n",
    "Transformer 中共有 N 个解码器层。\n",
    "\n",
    "当 Q 接收到解码器的第一个注意力块的输出，并且 K 接收到编码器的输出时，注意力权重表示根据编码器的输出赋予解码器输入的重要性。换一种说法，解码器通过查看编码器输出和对其自身输出的自注意力，预测下一个词"
   ]
  },
  {
   "cell_type": "code",
   "execution_count": 74,
   "metadata": {},
   "outputs": [],
   "source": [
    "class DecoderLayer(tf.keras.layers.Layer):\n",
    "    def __init__(self,d_model,num_heads,dff,rate=0.1):\n",
    "        super(DecoderLayer,self).__init__()\n",
    "        \n",
    "        self.mha1=MultiHeadAttention(d_model,num_heads)\n",
    "        self.mha2=MultiHeadAttention(d_model,num_heads)\n",
    "        \n",
    "        self.fnn=point_wise_ffn(d_model,dff)\n",
    "        \n",
    "        self.layernorm1=tf.keras.layers.LayerNormalization(epsilon=1e-6)\n",
    "        self.layernorm2=tf.keras.layers.LayerNormalization(epsilon=1e-6)\n",
    "        self.layernorm3=tf.keras.layers.LayerNormalization(epsilon=1e-6)\n",
    "        \n",
    "        self.dropout1=tf.keras.layers.Dropout(rate)\n",
    "        self.dropout2=tf.keras.layers.Dropout(rate)\n",
    "        self.dropout3=tf.keras.layers.Dropout(rate)\n",
    "        \n",
    "    def call(self,x,enc_output,training,look_ahead_mask,padding_mask):\n",
    "        # enc_output.shape == (batch_size, input_seq_len, d_model)\n",
    "        attn1,attn_weights_block1=self.mha1(x,x,x,look_ahead_mask)# (batch_size, target_seq_len, d_model)\n",
    "        attn1=self.dropout1(attn1,training=training)\n",
    "        out1=self.layernorm1(x+attn1)\n",
    "        \n",
    "        attn2,attn_weights_block2=self.mha2(enc_output,enc_output,out1,padding_mask) # (batch_size, target_seq_len, d_model)\n",
    "        attn2=self.dropout2(attn2)\n",
    "        out2=self.layernorm2(out1+attn2) # (batch_size, target_seq_len, d_model)\n",
    "        \n",
    "        fnn_output=self.fnn(out2)\n",
    "        fnn_output=self.dropout3(fnn_output)\n",
    "        out3=self.layernorm3(out2+fnn_output)# (batch_size, target_seq_len, d_model)\n",
    "        \n",
    "        return out3,attn_weights_block1,attn_weights_block2\n",
    "        \n",
    "        \n",
    "    "
   ]
  },
  {
   "cell_type": "code",
   "execution_count": 75,
   "metadata": {},
   "outputs": [
    {
     "data": {
      "text/plain": [
       "TensorShape([64, 50, 512])"
      ]
     },
     "execution_count": 75,
     "metadata": {},
     "output_type": "execute_result"
    }
   ],
   "source": [
    "sample_decoder_layer = DecoderLayer(512, 8, 2048)\n",
    "\n",
    "sample_decoder_layer_output, _, _ = sample_decoder_layer(\n",
    "    tf.random.uniform((64, 50, 512)), sample_encoder_layer_output, \n",
    "    False, None, None)\n",
    "\n",
    "sample_decoder_layer_output.shape  # (batch_size, target_seq_len, d_model)"
   ]
  },
  {
   "cell_type": "markdown",
   "metadata": {},
   "source": [
    "### 编码器（Encoder）"
   ]
  },
  {
   "cell_type": "markdown",
   "metadata": {},
   "source": [
    "编码器 包括：\n",
    "\n",
    "1. 输入嵌入（Input Embedding）\n",
    "2. 位置编码（Positional Encoding）\n",
    "3. N 个编码器层（encoder layers）\n",
    "\n",
    "输入经过嵌入（embedding）后，该嵌入与位置编码相加。该加法结果的输出是编码器层的输入。编码器的输出是解码器的输入。"
   ]
  },
  {
   "cell_type": "code",
   "execution_count": 88,
   "metadata": {},
   "outputs": [],
   "source": [
    "class Encoder(tf.keras.layers.Layer):\n",
    "    def __init__(self,num_layers,d_model,num_heads,dff,input_vocab_size,maximum_position_encoding,rate=0.1):\n",
    "        super(Encoder,self).__init__()\n",
    "        \n",
    "        self.d_model=d_model\n",
    "        self.num_layers=num_layers\n",
    "        \n",
    "        self.embedding=tf.keras.layers.Embedding(input_vocab_size,d_model)\n",
    "        self.pos_encoding=positional_encoding(maximum_position_encoding,self.d_model)\n",
    "        \n",
    "        self.enc_layers=[EncoderLayer(d_model,num_heads,dff,rate) for _ in range(num_layers)]\n",
    "        \n",
    "        self.dropout=tf.keras.layers.Dropout(rate)\n",
    "        \n",
    "    def call(self,x,training,mask):\n",
    "        seq_len=tf.shape(x)[1]\n",
    "        \n",
    "        # 将嵌入向量与位置编码相加\n",
    "        x=self.embedding(x) #(batch_size,seq_len,d_model)\n",
    "        x*=tf.math.sqrt(tf.cast(self.d_model,tf.float32))\n",
    "        x+=self.pos_encoding[:,:seq_len,:]\n",
    "        \n",
    "        x=self.dropout(x,training=training)\n",
    "        \n",
    "        for i in range(self.num_layers):\n",
    "            # mask pad的0\n",
    "            # 在self-attention中，mask与-1e9相乘，pad 0位置对应变为-1e9（接近负无穷），这样softmax输出接近0\n",
    "            x=self.enc_layers[i](x,training,mask)\n",
    "            \n",
    "        return x # (batch_size,input_seq_len,d_model)"
   ]
  },
  {
   "cell_type": "code",
   "execution_count": 89,
   "metadata": {},
   "outputs": [
    {
     "data": {
      "text/plain": [
       "TensorShape([64, 62, 512])"
      ]
     },
     "execution_count": 89,
     "metadata": {},
     "output_type": "execute_result"
    }
   ],
   "source": [
    "sample_encoder=Encoder(num_layers=2,d_model=512,num_heads=8,\n",
    "                      dff=2048,input_vocab_size=8500,\n",
    "                      maximum_position_encoding=10000)\n",
    "sample_encoder_output=sample_encoder(tf.random.uniform((64,62)),False,None)\n",
    "sample_encoder_output.shape"
   ]
  },
  {
   "cell_type": "markdown",
   "metadata": {},
   "source": [
    "### 解码器（Decoder）"
   ]
  },
  {
   "cell_type": "markdown",
   "metadata": {},
   "source": [
    "解码器包括：\n",
    "\n",
    "1. 输出嵌入（Output Embedding）\n",
    "2. 位置编码（Positional Encoding）\n",
    "3. N 个解码器层（decoder layers）\n",
    "\n",
    "目标（target）经过一个嵌入后，该嵌入和位置编码相加。该加法结果是解码器层的输入。解码器的输出是最后的线性层的输入。"
   ]
  },
  {
   "cell_type": "code",
   "execution_count": 94,
   "metadata": {},
   "outputs": [],
   "source": [
    "class Decoder(tf.keras.layers.Layer):\n",
    "    def __init__(self,num_layers,d_model,num_heads,dff,target_vocab_size,maximum_position_encoding,rate=0.1):\n",
    "        super(Decoder,self).__init__()\n",
    "        \n",
    "        self.d_model=d_model\n",
    "        self.num_layers=num_layers\n",
    "        \n",
    "        self.embedding=tf.keras.layers.Embedding(target_vocab_size,d_model)\n",
    "        self.pos_encoding=positional_encoding(maximum_position_encoding,d_model)\n",
    "        \n",
    "        self.dec_layer=[DecoderLayer(d_model,num_heads,dff,rate) for _ in range(num_layers)]\n",
    "        \n",
    "        self.dropout = tf.keras.layers.Dropout(rate)\n",
    "\n",
    "    def call(self,x,enc_output,training,look_ahead_mask,padding_mask):\n",
    "        seq_len=tf.shape(x)[1]\n",
    "        attention_weights={}\n",
    "        \n",
    "        x=self.embedding(x) # (batch_size,seq_len,d_model)\n",
    "        x*=tf.sqrt(tf.cast(self.d_model,tf.float32))\n",
    "        x+=self.pos_encoding[:,:seq_len,:]\n",
    "        \n",
    "        x=self.dropout(x,training)\n",
    "        \n",
    "        for i in range(self.num_layers):\n",
    "            x,attn_block1,attn_block2=self.dec_layer[i](x,enc_output,training,look_ahead_mask,padding_mask)\n",
    "            attention_weights['decoder_layer{}_block1'.format(i+1)]=attn_block1\n",
    "            attention_weights['decoder_layer{}_block2'.format(i+1)]=attn_block2\n",
    "        \n",
    "        # x.shape(batch_size,target_seq_len,d_model)\n",
    "        return x,attention_weights"
   ]
  },
  {
   "cell_type": "code",
   "execution_count": 95,
   "metadata": {},
   "outputs": [
    {
     "data": {
      "text/plain": [
       "(TensorShape([64, 26, 512]), TensorShape([64, 8, 26, 62]))"
      ]
     },
     "execution_count": 95,
     "metadata": {},
     "output_type": "execute_result"
    }
   ],
   "source": [
    "sample_decoder = Decoder(num_layers=2, d_model=512, num_heads=8, \n",
    "                         dff=2048, target_vocab_size=8000,\n",
    "                         maximum_position_encoding=5000)\n",
    "\n",
    "output, attn = sample_decoder(tf.random.uniform((64, 26)), \n",
    "                              enc_output=sample_encoder_output, \n",
    "                              training=False, look_ahead_mask=None, \n",
    "                              padding_mask=None)\n",
    "\n",
    "output.shape, attn['decoder_layer2_block2'].shape"
   ]
  },
  {
   "cell_type": "markdown",
   "metadata": {},
   "source": [
    "## 创建Transformer"
   ]
  },
  {
   "cell_type": "code",
   "execution_count": 98,
   "metadata": {},
   "outputs": [],
   "source": [
    "class Transformer(tf.keras.Model):\n",
    "    def __init__(self,num_layers,d_model,num_heads,dff,\n",
    "                 input_vocab_size,target_vocab_size,pe_input,pe_target,rate=0.1):\n",
    "        super(Transformer,self).__init__()\n",
    "        \n",
    "        self.encoder=Encoder(num_layers,d_model,num_heads,dff,\n",
    "                            input_vocab_size,pe_input,rate)\n",
    "        \n",
    "        self.decoder=Decoder(num_layers,d_model,num_heads,dff,\n",
    "                            target_vocab_size,pe_target,rate)\n",
    "        \n",
    "        self.final_layer=tf.keras.layers.Dense(target_vocab_size)\n",
    "        \n",
    "    \n",
    "    def call(self,inp,tar,training,enc_padding_mask,look_ahead_mask,dec_padding_mask):\n",
    "        enc_output=self.encoder(inp,training,enc_padding_mask) #(batch_size,inp_seq_len,d_model)\n",
    "        \n",
    "        # dec_output.shape == (batch_size, tar_seq_len, d_model)\n",
    "        dec_output,attn_weights=self.decoder(tar,enc_output,\n",
    "                                             training,look_ahead_mask,dec_padding_mask)\n",
    "        final_output=self.final_layer(dec_output)\n",
    "        \n",
    "        return final_output,attn_weights\n",
    "         "
   ]
  },
  {
   "cell_type": "code",
   "execution_count": 99,
   "metadata": {},
   "outputs": [
    {
     "data": {
      "text/plain": [
       "TensorShape([64, 26, 8000])"
      ]
     },
     "execution_count": 99,
     "metadata": {},
     "output_type": "execute_result"
    }
   ],
   "source": [
    "sample_transformer = Transformer(\n",
    "    num_layers=2, d_model=512, num_heads=8, dff=2048, \n",
    "    input_vocab_size=8500, target_vocab_size=8000, \n",
    "    pe_input=10000, pe_target=6000)\n",
    "\n",
    "temp_input = tf.random.uniform((64, 62))\n",
    "temp_target = tf.random.uniform((64, 26))\n",
    "\n",
    "fn_out, _ = sample_transformer(temp_input, temp_target, training=False, \n",
    "                               enc_padding_mask=None, \n",
    "                               look_ahead_mask=None,\n",
    "                               dec_padding_mask=None)\n",
    "\n",
    "fn_out.shape  # (batch_size, tar_seq_len, target_vocab_size)"
   ]
  },
  {
   "cell_type": "markdown",
   "metadata": {},
   "source": [
    "## 配置超参数（hyperparameters）"
   ]
  },
  {
   "cell_type": "markdown",
   "metadata": {},
   "source": [
    "Transformer 的基础模型使用的数值为：num_layers=6，d_model = 512，dff = 2048。"
   ]
  },
  {
   "cell_type": "code",
   "execution_count": 111,
   "metadata": {},
   "outputs": [],
   "source": [
    "num_layers=4\n",
    "d_model=128\n",
    "dff=512\n",
    "num_heads=8\n",
    "input_vocab_size=tokenizer_pt.vocab_size+2 #加上开始和结束标记\n",
    "target_vocab_size=tokenizer_en.vocab_size+2\n",
    "dropout_rate=0.1"
   ]
  },
  {
   "cell_type": "markdown",
   "metadata": {},
   "source": [
    "## 优化器"
   ]
  },
  {
   "cell_type": "markdown",
   "metadata": {},
   "source": [
    "根据论文中的公式，将 Adam 优化器与自定义的学习速率调度程序（scheduler）配合使用。\n",
    "\n",
    "$$\\Large{lrate = d_{model}^{-0.5} * min(step{\\_}num^{-0.5}, step{\\_}num * warmup{\\_}steps^{-1.5})}$$"
   ]
  },
  {
   "cell_type": "code",
   "execution_count": 112,
   "metadata": {},
   "outputs": [],
   "source": [
    "class CustomSchedule(tf.keras.optimizers.schedules.LearningRateSchedule):\n",
    "    def __init__(self, d_model, warmup_steps=4000):\n",
    "        super(CustomSchedule, self).__init__()\n",
    "    \n",
    "        self.d_model = d_model\n",
    "        self.d_model = tf.cast(self.d_model, tf.float32)\n",
    "\n",
    "        self.warmup_steps = warmup_steps\n",
    "    \n",
    "    def __call__(self, step):\n",
    "        arg1 = tf.math.rsqrt(step)\n",
    "        arg2 = step * (self.warmup_steps ** -1.5)\n",
    "    \n",
    "        return tf.math.rsqrt(self.d_model) * tf.math.minimum(arg1, arg2)"
   ]
  },
  {
   "cell_type": "code",
   "execution_count": 115,
   "metadata": {},
   "outputs": [],
   "source": [
    "learning_rate=CustomSchedule(d_model)\n",
    "\n",
    "optimizer=tf.keras.optimizers.Adam(learning_rate,beta_1=0.9,beta_2=0.98,epsilon=1e-9)"
   ]
  },
  {
   "cell_type": "code",
   "execution_count": 116,
   "metadata": {},
   "outputs": [
    {
     "data": {
      "text/plain": [
       "Text(0, 0.5, 'learning rate')"
      ]
     },
     "execution_count": 116,
     "metadata": {},
     "output_type": "execute_result"
    },
    {
     "data": {
      "image/png": "[encoded data removed]",
      "text/plain": [
       "<Figure size 432x288 with 1 Axes>"
      ]
     },
     "metadata": {
      "needs_background": "light"
     },
     "output_type": "display_data"
    }
   ],
   "source": [
    "temp_learninig_rate_schedule=CustomSchedule(d_model)\n",
    "plt.plot(temp_learninig_rate_schedule(tf.range(40000,dtype=tf.float32)))\n",
    "plt.xlabel('steps')\n",
    "plt.ylabel('learning rate')"
   ]
  },
  {
   "cell_type": "markdown",
   "metadata": {},
   "source": [
    "## 损失函数与指标（Loss and metrics）"
   ]
  },
  {
   "cell_type": "code",
   "execution_count": 117,
   "metadata": {},
   "outputs": [],
   "source": [
    "loss_object=tf.keras.losses.SparseCategoricalCrossentropy(from_logits=True,reduction='none')"
   ]
  },
  {
   "cell_type": "code",
   "execution_count": 118,
   "metadata": {},
   "outputs": [],
   "source": [
    "def loss_function(y_true,y_pred):\n",
    "    mask=tf.math.logical_not(tf.math.equal(y_true,0))\n",
    "    loss=loss_object(y_true,y_pred)\n",
    "    \n",
    "    mask=tf.cast(mask,dtype=loss.dtype)\n",
    "#     将padding处的loss去掉了\n",
    "    loss*=mask\n",
    "    \n",
    "    return tf.reduce_mean(loss)"
   ]
  },
  {
   "cell_type": "code",
   "execution_count": 119,
   "metadata": {},
   "outputs": [],
   "source": [
    "train_loss=tf.keras.metrics.Mean(name='train_loss')\n",
    "train_accuracy=tf.keras.metrics.SparseCategoricalAccuracy(name='train_accuracy')"
   ]
  },
  {
   "cell_type": "markdown",
   "metadata": {},
   "source": [
    "## 训练与检查点（training and checkpoint）"
   ]
  },
  {
   "cell_type": "code",
   "execution_count": 120,
   "metadata": {},
   "outputs": [],
   "source": [
    "transformer=Transformer(num_layers,d_model,num_heads,dff,input_vocab_size,\n",
    "                       target_vocab_size,pe_input=input_vocab_size,\n",
    "                       pe_target=target_vocab_size,rate=dropout_rate)"
   ]
  },
  {
   "cell_type": "code",
   "execution_count": 121,
   "metadata": {},
   "outputs": [],
   "source": [
    "def create_masks(inp,tar):\n",
    "    # 编码器pad mask，遮挡输入中的0\n",
    "    enc_padding_mask=create_padding_mask(inp)\n",
    "    \n",
    "    # 解码器的第二个注意力模块使用\n",
    "    # 该pad mask用于遮挡上一个编码器的输出\n",
    "    dec_padding_mask=create_padding_mask(inp)\n",
    "    \n",
    "    # 解码器的第一个注意力模块使用\n",
    "    # 用于填充和遮挡解码器获取到的输入的后续标记\n",
    "    look_ahead_mask=create_look_ahead_mask(tf.shape(tar)[1])\n",
    "    dec_target_padding_mask=create_padding_mask(tar)\n",
    "    combined_mask=tf.maximum(dec_target_padding_mask,look_ahead_mask)\n",
    "    \n",
    "    return enc_padding_mask,combined_mask,dec_padding_mask"
   ]
  },
  {
   "cell_type": "code",
   "execution_count": 150,
   "metadata": {},
   "outputs": [
    {
     "name": "stdout",
     "output_type": "stream",
     "text": [
      "----load thr model----\n"
     ]
    }
   ],
   "source": [
    "checkpoint_path='./checkpoints_transformer/train'\n",
    "ckpt=tf.train.Checkpoint(transformer=transformer,optimizer=optimizer)\n",
    "\n",
    "ckpt_manager=tf.train.CheckpointManager(ckpt,checkpoint_path,max_to_keep=5)\n",
    "\n",
    "# 查看是否有检查点，有的话恢复最新检查点\n",
    "# checkpoint中保存了训练了20个周期的参数\n",
    "if ckpt_manager.latest_checkpoint:\n",
    "    ckpt.restore(ckpt_manager.latest_checkpoint)\n",
    "    print('----load thr model----')"
   ]
  },
  {
   "cell_type": "code",
   "execution_count": 148,
   "metadata": {},
   "outputs": [
    {
     "data": {
      "text/plain": [
       "'./checkpoints_transformer/train/ckpt-4'"
      ]
     },
     "execution_count": 148,
     "metadata": {},
     "output_type": "execute_result"
    }
   ],
   "source": [
    "tf.train.latest_checkpoint(checkpoint_path)"
   ]
  },
  {
   "cell_type": "code",
   "execution_count": 149,
   "metadata": {},
   "outputs": [
    {
     "data": {
      "text/plain": [
       "'./checkpoints_transformer/train/ckpt-4'"
      ]
     },
     "execution_count": 149,
     "metadata": {},
     "output_type": "execute_result"
    }
   ],
   "source": [
    "ckpt_manager.latest_checkpoint"
   ]
  },
  {
   "cell_type": "markdown",
   "metadata": {},
   "source": [
    "目标（target）被分成了 tar_inp 和 tar_real。tar_inp 作为输入传递到解码器。tar_real 是位移了 1 的同一个输入：在 tar_inp 中的每个位置，tar_real 包含了应该被预测到的下一个标记（token）。\n",
    "\n",
    "例如，sentence = \"SOS A lion in the jungle is sleeping EOS\"\n",
    "\n",
    "tar_inp = \"SOS A lion in the jungle is sleeping\"\n",
    "\n",
    "tar_real = \"A lion in the jungle is sleeping EOS\"\n",
    "\n",
    "Transformer 是一个自回归（auto-regressive）模型：它一次作一个部分的预测，然后使用到目前为止的自身的输出来决定下一步要做什么。\n",
    "\n",
    "在训练过程中，本示例使用了 teacher-forcing 的方法。无论模型在当前时间步骤下预测出什么，teacher-forcing 方法都会将真实的输出传递到下一个时间步骤上。\n",
    "\n",
    "当 transformer 预测每个词时，自注意力（self-attention）功能使它能够查看输入序列中前面的单词，从而更好地预测下一个单词。\n",
    "\n",
    "为了防止模型在期望的输出上达到峰值，模型使用了前瞻遮挡（look-ahead mask）。"
   ]
  },
  {
   "cell_type": "code",
   "execution_count": 151,
   "metadata": {},
   "outputs": [],
   "source": [
    "EPOCHS=10"
   ]
  },
  {
   "cell_type": "code",
   "execution_count": 152,
   "metadata": {},
   "outputs": [],
   "source": [
    "# 该 @tf.function 将追踪-编译 train_step 到 TF 图中，以便更快地\n",
    "# 执行。该函数专用于参数张量的精确形状。为了避免由于可变序列长度或可变\n",
    "# 批次大小（最后一批次较小）导致的再追踪，使用 input_signature 指定\n",
    "# 更多的通用形状。\n",
    "\n",
    "\n",
    "train_step_signature=[\n",
    "    # Metadata for describing the tf.Tensor objects accepted or returned by some TensorFlow APIs.\n",
    "    tf.TensorSpec(shape=(None,None),dtype=tf.int64),\n",
    "    tf.TensorSpec(shape=(None,None),dtype=tf.int64)\n",
    "]\n",
    "\n",
    "@tf.function(input_signature=train_step_signature)\n",
    "def train_step(inp,tar):\n",
    "    tar_inp=tar[:,:-1]\n",
    "    tar_real=tar[:,1:]\n",
    "    \n",
    "    enc_padding_mask,combined_mask,dec_padding_mask=create_masks(inp,tar_inp)\n",
    "    \n",
    "    with tf.GradientTape() as tape:\n",
    "        predictions,_=transformer(inp,tar_inp,True,enc_padding_mask,\n",
    "                                 combined_mask,dec_padding_mask)\n",
    "        loss=loss_function(tar_real,predictions)\n",
    "    gradients=tape.gradient(loss,transformer.trainable_variables)\n",
    "    optimizer.apply_gradients(zip(gradients,transformer.trainable_variables))\n",
    "    \n",
    "    train_loss(loss)\n",
    "    train_accuracy(tar_real,predictions)"
   ]
  },
  {
   "cell_type": "code",
   "execution_count": 153,
   "metadata": {},
   "outputs": [
    {
     "name": "stdout",
     "output_type": "stream",
     "text": [
      "Epoch 1 Batch 0 Loss 1.9867 Accuracy 0.1512\n",
      "Epoch 1 Batch 50 Loss 1.9338 Accuracy 0.1682\n",
      "Epoch 1 Batch 100 Loss 1.8591 Accuracy 0.1796\n",
      "Epoch 1 Batch 150 Loss 1.8025 Accuracy 0.1870\n",
      "Epoch 1 Batch 200 Loss 1.7539 Accuracy 0.1926\n",
      "Epoch 1 Batch 250 Loss 1.7038 Accuracy 0.1969\n",
      "Epoch 1 Batch 300 Loss 1.6674 Accuracy 0.2020\n",
      "Epoch 1 Batch 350 Loss 1.6316 Accuracy 0.2061\n",
      "Epoch 1 Batch 400 Loss 1.5970 Accuracy 0.2099\n",
      "Epoch 1 Batch 450 Loss 1.5681 Accuracy 0.2131\n",
      "Epoch 1 Batch 500 Loss 1.5421 Accuracy 0.2157\n",
      "Epoch 1 Batch 550 Loss 1.5175 Accuracy 0.2185\n",
      "Epoch 1 Batch 600 Loss 1.4920 Accuracy 0.2208\n",
      "Epoch 1 Batch 650 Loss 1.4704 Accuracy 0.2231\n",
      "Epoch 1 Batch 700 Loss 1.4493 Accuracy 0.2255\n",
      "Epoch 1 Loss 1.4488 Accuracy 0.2255\n",
      "Time taken for 1 epoch: 393.6630337238312 secs\n",
      "\n",
      "Epoch 2 Batch 0 Loss 1.2105 Accuracy 0.2612\n",
      "Epoch 2 Batch 50 Loss 1.1058 Accuracy 0.2676\n",
      "Epoch 2 Batch 100 Loss 1.0902 Accuracy 0.2676\n",
      "Epoch 2 Batch 150 Loss 1.0801 Accuracy 0.2691\n",
      "Epoch 2 Batch 200 Loss 1.0679 Accuracy 0.2697\n",
      "Epoch 2 Batch 250 Loss 1.0662 Accuracy 0.2714\n",
      "Epoch 2 Batch 300 Loss 1.0603 Accuracy 0.2717\n",
      "Epoch 2 Batch 350 Loss 1.0561 Accuracy 0.2729\n",
      "Epoch 2 Batch 400 Loss 1.0487 Accuracy 0.2734\n",
      "Epoch 2 Batch 450 Loss 1.0407 Accuracy 0.2740\n",
      "Epoch 2 Batch 500 Loss 1.0361 Accuracy 0.2742\n",
      "Epoch 2 Batch 550 Loss 1.0302 Accuracy 0.2746\n",
      "Epoch 2 Batch 600 Loss 1.0264 Accuracy 0.2751\n",
      "Epoch 2 Batch 650 Loss 1.0243 Accuracy 0.2757\n",
      "Epoch 2 Batch 700 Loss 1.0192 Accuracy 0.2762\n",
      "Epoch 2 Loss 1.0186 Accuracy 0.2763\n",
      "Time taken for 1 epoch: 388.5171446800232 secs\n",
      "\n",
      "Epoch 3 Batch 0 Loss 1.0079 Accuracy 0.3045\n",
      "Epoch 3 Batch 50 Loss 0.8595 Accuracy 0.2960\n",
      "Epoch 3 Batch 100 Loss 0.8740 Accuracy 0.2968\n",
      "Epoch 3 Batch 150 Loss 0.8677 Accuracy 0.2960\n",
      "Epoch 3 Batch 200 Loss 0.8663 Accuracy 0.2965\n",
      "Epoch 3 Batch 250 Loss 0.8629 Accuracy 0.2964\n",
      "Epoch 3 Batch 300 Loss 0.8611 Accuracy 0.2960\n",
      "Epoch 3 Batch 350 Loss 0.8620 Accuracy 0.2961\n",
      "Epoch 3 Batch 400 Loss 0.8614 Accuracy 0.2961\n",
      "Epoch 3 Batch 450 Loss 0.8607 Accuracy 0.2960\n",
      "Epoch 3 Batch 500 Loss 0.8597 Accuracy 0.2963\n",
      "Epoch 3 Batch 550 Loss 0.8601 Accuracy 0.2962\n",
      "Epoch 3 Batch 600 Loss 0.8597 Accuracy 0.2966\n",
      "Epoch 3 Batch 650 Loss 0.8585 Accuracy 0.2966\n",
      "Epoch 3 Batch 700 Loss 0.8580 Accuracy 0.2966\n",
      "Epoch 3 Loss 0.8581 Accuracy 0.2966\n",
      "Time taken for 1 epoch: 385.7400288581848 secs\n",
      "\n",
      "Epoch 4 Batch 0 Loss 0.7421 Accuracy 0.2981\n",
      "Epoch 4 Batch 50 Loss 0.7699 Accuracy 0.3108\n",
      "Epoch 4 Batch 100 Loss 0.7683 Accuracy 0.3121\n",
      "Epoch 4 Batch 150 Loss 0.7656 Accuracy 0.3107\n",
      "Epoch 4 Batch 200 Loss 0.7663 Accuracy 0.3094\n",
      "Epoch 4 Batch 250 Loss 0.7646 Accuracy 0.3100\n",
      "Epoch 4 Batch 300 Loss 0.7631 Accuracy 0.3096\n",
      "Epoch 4 Batch 350 Loss 0.7650 Accuracy 0.3101\n",
      "Epoch 4 Batch 400 Loss 0.7668 Accuracy 0.3103\n",
      "Epoch 4 Batch 450 Loss 0.7671 Accuracy 0.3102\n",
      "Epoch 4 Batch 500 Loss 0.7670 Accuracy 0.3096\n",
      "Epoch 4 Batch 550 Loss 0.7687 Accuracy 0.3094\n",
      "Epoch 4 Batch 600 Loss 0.7701 Accuracy 0.3095\n",
      "Epoch 4 Batch 650 Loss 0.7704 Accuracy 0.3092\n",
      "Epoch 4 Batch 700 Loss 0.7721 Accuracy 0.3089\n",
      "Epoch 4 Loss 0.7724 Accuracy 0.3090\n",
      "Time taken for 1 epoch: 383.1595528125763 secs\n",
      "\n",
      "Epoch 5 Batch 0 Loss 0.7492 Accuracy 0.3585\n",
      "Epoch 5 Batch 50 Loss 0.6915 Accuracy 0.3208\n",
      "Epoch 5 Batch 100 Loss 0.6969 Accuracy 0.3227\n",
      "Epoch 5 Batch 150 Loss 0.6980 Accuracy 0.3205\n",
      "Epoch 5 Batch 200 Loss 0.7018 Accuracy 0.3197\n",
      "Epoch 5 Batch 250 Loss 0.7042 Accuracy 0.3202\n",
      "Epoch 5 Batch 300 Loss 0.7056 Accuracy 0.3196\n",
      "Epoch 5 Batch 350 Loss 0.7066 Accuracy 0.3194\n",
      "Epoch 5 Batch 400 Loss 0.7073 Accuracy 0.3190\n",
      "Epoch 5 Batch 450 Loss 0.7095 Accuracy 0.3192\n",
      "Epoch 5 Batch 500 Loss 0.7104 Accuracy 0.3192\n",
      "Epoch 5 Batch 550 Loss 0.7105 Accuracy 0.3189\n",
      "Epoch 5 Batch 600 Loss 0.7112 Accuracy 0.3188\n",
      "Epoch 5 Batch 650 Loss 0.7120 Accuracy 0.3182\n",
      "Epoch 5 Batch 700 Loss 0.7138 Accuracy 0.3179\n",
      "Saving checkpoint for epoch 5 at ./checkpoints_transformer/train/ckpt-5\n",
      "Epoch 5 Loss 0.7141 Accuracy 0.3179\n",
      "Time taken for 1 epoch: 390.2437570095062 secs\n",
      "\n",
      "Epoch 6 Batch 0 Loss 0.6153 Accuracy 0.3154\n",
      "Epoch 6 Batch 50 Loss 0.6433 Accuracy 0.3267\n",
      "Epoch 6 Batch 100 Loss 0.6453 Accuracy 0.3272\n",
      "Epoch 6 Batch 150 Loss 0.6511 Accuracy 0.3273\n",
      "Epoch 6 Batch 200 Loss 0.6546 Accuracy 0.3273\n",
      "Epoch 6 Batch 250 Loss 0.6577 Accuracy 0.3277\n",
      "Epoch 6 Batch 300 Loss 0.6592 Accuracy 0.3273\n",
      "Epoch 6 Batch 350 Loss 0.6591 Accuracy 0.3264\n",
      "Epoch 6 Batch 400 Loss 0.6588 Accuracy 0.3258\n",
      "Epoch 6 Batch 450 Loss 0.6601 Accuracy 0.3254\n",
      "Epoch 6 Batch 500 Loss 0.6627 Accuracy 0.3258\n",
      "Epoch 6 Batch 550 Loss 0.6637 Accuracy 0.3251\n",
      "Epoch 6 Batch 600 Loss 0.6652 Accuracy 0.3247\n",
      "Epoch 6 Batch 650 Loss 0.6666 Accuracy 0.3241\n",
      "Epoch 6 Batch 700 Loss 0.6685 Accuracy 0.3237\n",
      "Epoch 6 Loss 0.6685 Accuracy 0.3237\n",
      "Time taken for 1 epoch: 395.5014638900757 secs\n",
      "\n",
      "Epoch 7 Batch 0 Loss 0.5664 Accuracy 0.3454\n",
      "Epoch 7 Batch 50 Loss 0.5944 Accuracy 0.3372\n",
      "Epoch 7 Batch 100 Loss 0.6116 Accuracy 0.3377\n",
      "Epoch 7 Batch 150 Loss 0.6131 Accuracy 0.3350\n",
      "Epoch 7 Batch 200 Loss 0.6151 Accuracy 0.3332\n",
      "Epoch 7 Batch 250 Loss 0.6175 Accuracy 0.3331\n",
      "Epoch 7 Batch 300 Loss 0.6187 Accuracy 0.3334\n",
      "Epoch 7 Batch 350 Loss 0.6231 Accuracy 0.3335\n",
      "Epoch 7 Batch 400 Loss 0.6238 Accuracy 0.3327\n",
      "Epoch 7 Batch 450 Loss 0.6251 Accuracy 0.3324\n",
      "Epoch 7 Batch 500 Loss 0.6276 Accuracy 0.3320\n",
      "Epoch 7 Batch 550 Loss 0.6283 Accuracy 0.3318\n",
      "Epoch 7 Batch 600 Loss 0.6307 Accuracy 0.3315\n",
      "Epoch 7 Batch 650 Loss 0.6324 Accuracy 0.3310\n",
      "Epoch 7 Batch 700 Loss 0.6336 Accuracy 0.3305\n",
      "Epoch 7 Loss 0.6336 Accuracy 0.3305\n",
      "Time taken for 1 epoch: 386.9589800834656 secs\n",
      "\n",
      "Epoch 8 Batch 0 Loss 0.5325 Accuracy 0.3285\n",
      "Epoch 8 Batch 50 Loss 0.5837 Accuracy 0.3447\n",
      "Epoch 8 Batch 100 Loss 0.5862 Accuracy 0.3412\n",
      "Epoch 8 Batch 150 Loss 0.5850 Accuracy 0.3389\n",
      "Epoch 8 Batch 200 Loss 0.5884 Accuracy 0.3388\n",
      "Epoch 8 Batch 250 Loss 0.5875 Accuracy 0.3379\n",
      "Epoch 8 Batch 300 Loss 0.5865 Accuracy 0.3366\n",
      "Epoch 8 Batch 350 Loss 0.5885 Accuracy 0.3365\n",
      "Epoch 8 Batch 400 Loss 0.5926 Accuracy 0.3370\n",
      "Epoch 8 Batch 450 Loss 0.5947 Accuracy 0.3367\n",
      "Epoch 8 Batch 500 Loss 0.5958 Accuracy 0.3357\n",
      "Epoch 8 Batch 550 Loss 0.5984 Accuracy 0.3353\n",
      "Epoch 8 Batch 600 Loss 0.5985 Accuracy 0.3353\n",
      "Epoch 8 Batch 650 Loss 0.6002 Accuracy 0.3352\n",
      "Epoch 8 Batch 700 Loss 0.6019 Accuracy 0.3350\n",
      "Epoch 8 Loss 0.6020 Accuracy 0.3350\n",
      "Time taken for 1 epoch: 383.2691960334778 secs\n",
      "\n",
      "Epoch 9 Batch 0 Loss 0.6257 Accuracy 0.3603\n",
      "Epoch 9 Batch 50 Loss 0.5512 Accuracy 0.3474\n",
      "Epoch 9 Batch 100 Loss 0.5551 Accuracy 0.3480\n",
      "Epoch 9 Batch 150 Loss 0.5534 Accuracy 0.3465\n",
      "Epoch 9 Batch 200 Loss 0.5542 Accuracy 0.3437\n",
      "Epoch 9 Batch 250 Loss 0.5563 Accuracy 0.3425\n",
      "Epoch 9 Batch 300 Loss 0.5599 Accuracy 0.3424\n",
      "Epoch 9 Batch 350 Loss 0.5622 Accuracy 0.3426\n",
      "Epoch 9 Batch 400 Loss 0.5636 Accuracy 0.3425\n",
      "Epoch 9 Batch 450 Loss 0.5654 Accuracy 0.3417\n",
      "Epoch 9 Batch 500 Loss 0.5667 Accuracy 0.3415\n",
      "Epoch 9 Batch 550 Loss 0.5688 Accuracy 0.3412\n",
      "Epoch 9 Batch 600 Loss 0.5700 Accuracy 0.3403\n",
      "Epoch 9 Batch 650 Loss 0.5724 Accuracy 0.3394\n",
      "Epoch 9 Batch 700 Loss 0.5758 Accuracy 0.3393\n",
      "Epoch 9 Loss 0.5759 Accuracy 0.3392\n",
      "Time taken for 1 epoch: 391.5807321071625 secs\n",
      "\n",
      "Epoch 10 Batch 0 Loss 0.5181 Accuracy 0.3321\n",
      "Epoch 10 Batch 50 Loss 0.5305 Accuracy 0.3511\n",
      "Epoch 10 Batch 100 Loss 0.5293 Accuracy 0.3492\n",
      "Epoch 10 Batch 150 Loss 0.5294 Accuracy 0.3484\n",
      "Epoch 10 Batch 200 Loss 0.5309 Accuracy 0.3480\n",
      "Epoch 10 Batch 250 Loss 0.5335 Accuracy 0.3477\n",
      "Epoch 10 Batch 300 Loss 0.5367 Accuracy 0.3471\n",
      "Epoch 10 Batch 350 Loss 0.5380 Accuracy 0.3458\n",
      "Epoch 10 Batch 400 Loss 0.5414 Accuracy 0.3458\n",
      "Epoch 10 Batch 450 Loss 0.5433 Accuracy 0.3454\n",
      "Epoch 10 Batch 500 Loss 0.5444 Accuracy 0.3448\n",
      "Epoch 10 Batch 550 Loss 0.5456 Accuracy 0.3442\n",
      "Epoch 10 Batch 600 Loss 0.5479 Accuracy 0.3437\n",
      "Epoch 10 Batch 650 Loss 0.5502 Accuracy 0.3432\n",
      "Epoch 10 Batch 700 Loss 0.5529 Accuracy 0.3427\n",
      "Saving checkpoint for epoch 10 at ./checkpoints_transformer/train/ckpt-6\n",
      "Epoch 10 Loss 0.5531 Accuracy 0.3427\n",
      "Time taken for 1 epoch: 394.21275901794434 secs\n",
      "\n"
     ]
    }
   ],
   "source": [
    "for epoch in range(EPOCHS):\n",
    "    start = time.time()\n",
    "  \n",
    "    train_loss.reset_states()\n",
    "    train_accuracy.reset_states()\n",
    "  \n",
    "  # inp -> portuguese, tar -> english\n",
    "    for (batch, (inp, tar)) in enumerate(train_dataset):\n",
    "        train_step(inp, tar)\n",
    "    \n",
    "        if batch % 50 == 0:\n",
    "            print ('Epoch {} Batch {} Loss {:.4f} Accuracy {:.4f}'.format(\n",
    "                  epoch + 1, batch, train_loss.result(), train_accuracy.result()))\n",
    "      \n",
    "    if (epoch + 1) % 5 == 0:\n",
    "        ckpt_save_path = ckpt_manager.save()\n",
    "        print ('Saving checkpoint for epoch {} at {}'.format(epoch+1,\n",
    "                                                         ckpt_save_path))\n",
    "    \n",
    "    print ('Epoch {} Loss {:.4f} Accuracy {:.4f}'.format(epoch + 1, \n",
    "                                                train_loss.result(), \n",
    "                                                train_accuracy.result()))\n",
    "\n",
    "    print ('Time taken for 1 epoch: {} secs\\n'.format(time.time() - start))"
   ]
  },
  {
   "cell_type": "markdown",
   "metadata": {},
   "source": [
    "## 评估"
   ]
  },
  {
   "cell_type": "markdown",
   "metadata": {},
   "source": [
    "以下步骤用于评估：\n",
    "\n",
    "- 用葡萄牙语分词器（tokenizer_pt）编码输入语句。此外，添加开始和结束标记，这样输入就与模型训练的内容相同。这是编码器输入。\n",
    "- 解码器输入为 start token == tokenizer_en.vocab_size。\n",
    "- 计算填充遮挡和前瞻遮挡。\n",
    "- 解码器通过查看编码器输出和它自身的输出（自注意力）给出预测。\n",
    "- 选择最后一个词并计算它的 argmax。\n",
    "- 将预测的词连接到解码器输入，然后传递给解码器。\n",
    "- 在这种方法中，解码器根据它预测的之前的词预测下一个。\n",
    "\n",
    "Note：这里使用的模型具有较小的能力以保持相对较快，因此预测可能不太正确。要复现论文中的结果，请使用全部数据集，并通过修改上述超参数来使用基础 transformer 模型或者 transformer XL。"
   ]
  },
  {
   "cell_type": "code",
   "execution_count": 158,
   "metadata": {},
   "outputs": [],
   "source": [
    "def evaluate(inp_sentence):\n",
    "    start_token=[tokenizer_pt.vocab_size]\n",
    "    end_token=[tokenizer_pt.vocab_size+1]\n",
    "    \n",
    "    # 对输入语句增加start-token与end-token\n",
    "    inp_sentence=start_token+tokenizer_pt.encode(inp_sentence)+end_token\n",
    "    encoder_input=tf.expand_dims(inp_sentence,axis=0)\n",
    "    \n",
    "    # 目标语句是英语，transformer解码器的第一个输入是英语的start-token\n",
    "    decoder_input=[tokenizer_en.vocab_size]\n",
    "    output=tf.expand_dims(decoder_input,0)\n",
    "    \n",
    "    for i in range(MAX_LENGTH):\n",
    "        enc_padding_mask,combined_mask,dec_padding_mask=create_masks(encoder_input,output)\n",
    "        \n",
    "        # predictions.shape == (batch_size, seq_len, vocab_size)\n",
    "        predictions,attention_weights=transformer(encoder_input,output,\n",
    "                                                 False,enc_padding_mask,\n",
    "                                                 combined_mask,dec_padding_mask)\n",
    "        \n",
    "        # 从seq-len维度选择最后一个词\n",
    "        predictions=predictions[:,-1:,:] # batch_size,1,vocab_size\n",
    "        \n",
    "        predicted_id=tf.cast(tf.argmax(predictions,-1),tf.int32)\n",
    "        \n",
    "        # 预测单词是结束标记\n",
    "        if predicted_id==tokenizer_en.vocab_size+1:\n",
    "            return tf.squeeze(output,axis=0),attention_weights\n",
    "        \n",
    "        # 连接predicted_id与输出，作为解码器的输入传入解码器\n",
    "        output=tf.concat([output,predicted_id],axis=-1)\n",
    "        \n",
    "    return tf.squeeze(output,axis=0),attention_weights\n",
    "\n",
    "        \n",
    "            "
   ]
  },
  {
   "cell_type": "code",
   "execution_count": 159,
   "metadata": {},
   "outputs": [],
   "source": [
    "def plot_attention_weights(attention, sentence, result, layer):\n",
    "    fig = plt.figure(figsize=(16, 8))\n",
    "  \n",
    "    sentence = tokenizer_pt.encode(sentence)\n",
    "  \n",
    "    attention = tf.squeeze(attention[layer], axis=0)\n",
    "  \n",
    "    for head in range(attention.shape[0]):\n",
    "        ax = fig.add_subplot(2, 4, head+1)\n",
    "    \n",
    "        # 画出注意力权重\n",
    "        ax.matshow(attention[head][:-1, :], cmap='viridis')\n",
    "\n",
    "        fontdict = {'fontsize': 10}\n",
    "    \n",
    "        ax.set_xticks(range(len(sentence)+2))\n",
    "        ax.set_yticks(range(len(result)))\n",
    "    \n",
    "        ax.set_ylim(len(result)-1.5, -0.5)\n",
    "        \n",
    "        ax.set_xticklabels(\n",
    "            ['<start>']+[tokenizer_pt.decode([i]) for i in sentence]+['<end>'], \n",
    "            fontdict=fontdict, rotation=90)\n",
    "    \n",
    "        ax.set_yticklabels([tokenizer_en.decode([i]) for i in result \n",
    "                            if i < tokenizer_en.vocab_size], \n",
    "                           fontdict=fontdict)\n",
    "    \n",
    "        ax.set_xlabel('Head {}'.format(head+1))\n",
    "  \n",
    "    plt.tight_layout()\n",
    "    plt.show()"
   ]
  },
  {
   "cell_type": "code",
   "execution_count": 160,
   "metadata": {},
   "outputs": [],
   "source": [
    "def translate(sentence,plot=''):\n",
    "    result,attention_weights=evaluate(sentence)\n",
    "    \n",
    "    predicted_sentence=tokenizer_en.decode([i for i in result if i <tokenizer_en.vocab_size])\n",
    "    \n",
    "    print(f'Input: {sentence}')\n",
    "    print(f'Predicted sentence is: {predicted_sentence}')\n",
    "    \n",
    "    if plot:\n",
    "        plot_attention_weights(attention_weights,sentence,result,plot)"
   ]
  },
  {
   "cell_type": "code",
   "execution_count": 174,
   "metadata": {},
   "outputs": [
    {
     "name": "stdout",
     "output_type": "stream",
     "text": [
      "Input: este é um problema que temos que resolver.\n",
      "Predicted sentence is: this is a problem that we need to solve our ...c .\n",
      "Real translation: this is a problem we have to solve .\n"
     ]
    }
   ],
   "source": [
    "translate(\"este é um problema que temos que resolver.\")\n",
    "print (\"Real translation: this is a problem we have to solve .\")"
   ]
  },
  {
   "cell_type": "code",
   "execution_count": 163,
   "metadata": {},
   "outputs": [
    {
     "name": "stdout",
     "output_type": "stream",
     "text": [
      "Input: os meus vizinhos ouviram sobre esta ideia.\n",
      "Predicted sentence is: my neighbors heard about this idea .\n",
      "Real translation: and my neighboring homes heard about this idea .\n"
     ]
    }
   ],
   "source": [
    "translate(\"os meus vizinhos ouviram sobre esta ideia.\")\n",
    "print (\"Real translation: and my neighboring homes heard about this idea .\")"
   ]
  },
  {
   "cell_type": "code",
   "execution_count": 165,
   "metadata": {},
   "outputs": [
    {
     "name": "stdout",
     "output_type": "stream",
     "text": [
      "Input: vou então muito rapidamente partilhar convosco algumas histórias de algumas coisas mágicas que aconteceram.\n",
      "Predicted sentence is: so i 'm very quickly sharing with you some stories of some magic things that happened .\n",
      "Real translation: so i 'll just share with you some stories very quickly of some magical things that have happened .\n"
     ]
    }
   ],
   "source": [
    "translate(\"vou então muito rapidamente partilhar convosco algumas histórias de algumas coisas mágicas que aconteceram.\")\n",
    "print (\"Real translation: so i 'll just share with you some stories very quickly of some magical things that have happened .\")"
   ]
  },
  {
   "cell_type": "code",
   "execution_count": 177,
   "metadata": {},
   "outputs": [
    {
     "name": "stdout",
     "output_type": "stream",
     "text": [
      "Input: este é o primeiro livro que eu fiz.\n",
      "Predicted sentence is: this is the first book i did .\n"
     ]
    },
    {
     "data": {
      "image/png": "[encoded data removed]",
      "text/plain": [
       "<Figure size 1152x576 with 8 Axes>"
      ]
     },
     "metadata": {
      "needs_background": "light"
     },
     "output_type": "display_data"
    },
    {
     "name": "stdout",
     "output_type": "stream",
     "text": [
      "Real translation: this is the first book i've ever done.\n"
     ]
    }
   ],
   "source": [
    "translate(\"este é o primeiro livro que eu fiz.\", plot='decoder_layer4_block2')\n",
    "print (\"Real translation: this is the first book i've ever done.\")"
   ]
  },
  {
   "cell_type": "code",
   "execution_count": null,
   "metadata": {},
   "outputs": [],
   "source": []
  }
 ],
 "metadata": {
  "kernelspec": {
   "display_name": "Python 3",
   "language": "python",
   "name": "python3"
  },
  "language_info": {
   "codemirror_mode": {
    "name": "ipython",
    "version": 3
   },
   "file_extension": ".py",
   "mimetype": "text/x-python",
   "name": "python",
   "nbconvert_exporter": "python",
   "pygments_lexer": "ipython3",
   "version": "3.7.3"
  }
 },
 "nbformat": 4,
 "nbformat_minor": 2
}
