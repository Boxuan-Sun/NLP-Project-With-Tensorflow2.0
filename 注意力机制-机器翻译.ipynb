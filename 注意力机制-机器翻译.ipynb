{
 "cells": [
  {
   "cell_type": "code",
   "execution_count": 1,
   "metadata": {},
   "outputs": [],
   "source": [
    "import tensorflow as tf\n",
    "import matplotlib.pyplot as plt\n",
    "import matplotlib.ticker as ticker\n",
    "from sklearn.model_selection import train_test_split\n",
    "\n",
    "import unicodedata\n",
    "import re\n",
    "import numpy as np\n",
    "import os\n",
    "import io\n",
    "import time"
   ]
  },
  {
   "cell_type": "markdown",
   "metadata": {},
   "source": [
    "## 准备数据集"
   ]
  },
  {
   "cell_type": "markdown",
   "metadata": {},
   "source": [
    "我们将使用 http://www.manythings.org/anki/ 提供的一个语言数据集。这个数据集包含如下格式的语言翻译对：  \n",
    "May I borrow this book? ¿Puedo tomar prestado este libro?\n"
   ]
  },
  {
   "cell_type": "markdown",
   "metadata": {},
   "source": [
    "下载完毕数据集之后，我们需要做如下步骤：\n",
    "1. 给每一个句子添加一个开始与结束标记（token）\n",
    "2. 删除特殊字符以清理句子\n",
    "3. 创建一个单词索引与一个反向单词索引（word2idx，idx2word）\n",
    "4. 将每一个句子填充到最大长度（padding）"
   ]
  },
  {
   "cell_type": "code",
   "execution_count": 2,
   "metadata": {},
   "outputs": [],
   "source": [
    "# 加载文件路径\n",
    "path_to_file='语料库/spa-eng/spa.txt'"
   ]
  },
  {
   "cell_type": "code",
   "execution_count": 3,
   "metadata": {},
   "outputs": [],
   "source": [
    "# 将unicode转为ascii\n",
    "def unicode_to_ascii(s):\n",
    "    return ''.join(c for c in unicodedata.normalize('NFD',s) if unicodedata.category(c)!=\"Mn\")"
   ]
  },
  {
   "cell_type": "code",
   "execution_count": 4,
   "metadata": {},
   "outputs": [],
   "source": [
    "def preprocess_sentence(w):\n",
    "    w = unicode_to_ascii(w.lower().strip())\n",
    "\n",
    "    # 在单词与跟在其后的标点符号之间插入一个空格\n",
    "    # 例如： \"he is a boy.\" => \"he is a boy .\"\n",
    "    # 参考：https://stackoverflow.com/questions/3645931/python-padding-punctuation-with-white-spaces-keeping-punctuation\n",
    "    w = re.sub(r\"([?.!,¿])\", r\" \\1 \", w)\n",
    "    w = re.sub(r'[\" \"]+', \" \", w)\n",
    "\n",
    "    # 除了 (a-z, A-Z, \".\", \"?\", \"!\", \",\")，将所有字符替换为空格\n",
    "    w = re.sub(r\"[^a-zA-Z?.!,¿]+\", \" \", w)\n",
    "\n",
    "    w = w.rstrip().strip()\n",
    "\n",
    "    # 给句子加上开始和结束标记\n",
    "    # 以便模型知道何时开始和结束预测\n",
    "    w = '<start> ' + w + ' <end>'\n",
    "    return w"
   ]
  },
  {
   "cell_type": "code",
   "execution_count": 5,
   "metadata": {},
   "outputs": [
    {
     "name": "stdout",
     "output_type": "stream",
     "text": [
      "<start> i played basketball yesterday . <end>\n",
      "<start> ayer jugue al baloncesto . <end>\n"
     ]
    }
   ],
   "source": [
    "en_sentences=u'I played basketball yesterday.'\n",
    "sp_sentences=u'Ayer jugué al baloncesto.'\n",
    "print(preprocess_sentence(en_sentences))\n",
    "print(preprocess_sentence(sp_sentences))"
   ]
  },
  {
   "cell_type": "code",
   "execution_count": 6,
   "metadata": {},
   "outputs": [],
   "source": [
    "# 去除重音符号,如jugué 的 é 变为jugue\n",
    "# 清理句子\n",
    "# 返回单词对【English，Spanish，_(无用的信息）】\n",
    "def create_dataset(path,num_examples):\n",
    "    lines=io.open(path,encoding='UTF-8').read().strip().split('\\n')\n",
    "    word_pairs=[[preprocess_sentence(w) for w in l.split('\\t')] for l in lines[:min(num_examples,len(lines)-1) if num_examples else None]]\n",
    "    return zip(*word_pairs)"
   ]
  },
  {
   "cell_type": "code",
   "execution_count": 7,
   "metadata": {},
   "outputs": [
    {
     "data": {
      "text/plain": [
       "<zip at 0x148640548>"
      ]
     },
     "execution_count": 7,
     "metadata": {},
     "output_type": "execute_result"
    }
   ],
   "source": [
    "x=[1,2,3]\n",
    "y=[4,5,6]\n",
    "z=[7,8,9]\n",
    "\n",
    "w= zip(x,y,z)#[(1, 4, 7), (2, 5, 8), (3, 6, 9)]\n",
    "\n",
    "# zip() in conjunction with the * operator can be used to unzip a list:\n",
    "zip(*w) #[(1, 2, 3), (4, 5, 6), (7, 8, 9)]\n",
    "\n"
   ]
  },
  {
   "cell_type": "code",
   "execution_count": 8,
   "metadata": {},
   "outputs": [
    {
     "name": "stdout",
     "output_type": "stream",
     "text": [
      "<start> it may be impossible to get a completely error free corpus due to the nature of this kind of collaborative effort . however , if we encourage members to contribute sentences in their own languages rather than experiment in languages they are learning , we might be able to minimize errors . <end>\n",
      "<start> puede que sea imposible obtener un corpus completamente libre de errores debido a la naturaleza de este tipo de esfuerzo de colaboracion . sin embargo , si animamos a los miembros a contribuir frases en sus propios idiomas en lugar de experimentar con los idiomas que estan aprendiendo , podriamos ser capaces de minimizar los errores . <end>\n"
     ]
    }
   ],
   "source": [
    "# create_dataset将list中的元素拆分为三份返回\n",
    "# en是第一个英文数据，sp是第二个西班牙文数据，第三个数据是后面不用管的\n",
    "en, sp,_ = create_dataset(path_to_file, None)\n",
    "print(en[-1])\n",
    "print(sp[-1])"
   ]
  },
  {
   "cell_type": "code",
   "execution_count": 9,
   "metadata": {},
   "outputs": [],
   "source": [
    "def max_length(tensor):\n",
    "    return max(len(t) for t in tensor)"
   ]
  },
  {
   "cell_type": "code",
   "execution_count": 10,
   "metadata": {},
   "outputs": [],
   "source": [
    "# tf.keras.preprocessing.text.Tokenizer:\n",
    "# 此类允许通过将每个文本转换成整数序列（每个整数是字典中标记的索引）或转换成矢量（其中每个标记的系数可以是二进制的）的矢量化语料库，基于单词数 ，基于tf-idf ...\n",
    "\n",
    "# filters: a string where each element is a character that will be\n",
    "#          filtered from the texts. The default is all punctuation, plus\n",
    "#          tabs and line breaks, minus the `'` character.\n",
    "def tokenize(lang):\n",
    "    lang_tokenizer=tf.keras.preprocessing.text.Tokenizer(filters='')\n",
    "#     fit_on_texts:\n",
    "#     根据文本列表更新内部词汇。 在文本包含列表的情况下，我们假定列表的每个条目都是一个标记。 在使用texts_to_sequences或texts_to_matrix之前是必需的。\n",
    "    lang_tokenizer.fit_on_texts(lang)\n",
    "    # text_to_sequences:\n",
    "    # Transforms each text in texts to a sequence of integers.\n",
    "    # 只考虑前num_words-1词频的词，只考虑分词器已知的词\n",
    "\n",
    "    tensor=lang_tokenizer.texts_to_sequences(lang)\n",
    "    tensor=tf.keras.preprocessing.sequence.pad_sequences(tensor,padding='post')\n",
    "    return tensor,lang_tokenizer"
   ]
  },
  {
   "cell_type": "code",
   "execution_count": 11,
   "metadata": {},
   "outputs": [],
   "source": [
    "def load_dataset(path,num_examples=None):\n",
    "    # create_dataset 返回单词对【English，Spanish，_(无用的信息）】\n",
    "    target_lang,input_lang,_=create_dataset(path,num_examples)\n",
    "    input_tensor,input_lang_tokenizer=tokenize(input_lang)\n",
    "    target_tensor,target_lang_tokenizer=tokenize(target_lang)\n",
    "    return input_tensor,input_lang_tokenizer,target_tensor,target_lang_tokenizer"
   ]
  },
  {
   "cell_type": "markdown",
   "metadata": {},
   "source": [
    "### 选择训练集大小"
   ]
  },
  {
   "cell_type": "code",
   "execution_count": 19,
   "metadata": {},
   "outputs": [],
   "source": [
    "# 注意，训练集一共有123335条语句，并且训练集后面的语句更长\n",
    "# 所以训练集较小，对于较短的语句效果较好\n",
    "# 使用num_examples=None 即使用所有训练语句\n",
    "num_examples=30000 # 训练数据集大小\n",
    "input_tensor,input_lang_tokenizer,target_tensor,target_lang_tokenizer=\\\n",
    "load_dataset(path_to_file,num_examples)"
   ]
  },
  {
   "cell_type": "code",
   "execution_count": 39,
   "metadata": {},
   "outputs": [
    {
     "data": {
      "text/plain": [
       "(73, 'very')"
      ]
     },
     "execution_count": 39,
     "metadata": {},
     "output_type": "execute_result"
    }
   ],
   "source": [
    "# 在tokenizer.index_word字典中，包含了我们所有的词索引\n",
    "target_lang_tokenizer.word_index['love'],target_lang_tokenizer.index_word[49]"
   ]
  },
  {
   "cell_type": "code",
   "execution_count": 20,
   "metadata": {},
   "outputs": [
    {
     "data": {
      "text/plain": [
       "(16, 11)"
      ]
     },
     "execution_count": 20,
     "metadata": {},
     "output_type": "execute_result"
    }
   ],
   "source": [
    "# 计算句子最大长度\n",
    "max_length_input,max_length_target=max_length(input_tensor),max_length(target_tensor)\n",
    "max_length_input,max_length_target"
   ]
  },
  {
   "cell_type": "code",
   "execution_count": 22,
   "metadata": {},
   "outputs": [
    {
     "data": {
      "text/plain": [
       "((30000, 16), (30000, 11))"
      ]
     },
     "execution_count": 22,
     "metadata": {},
     "output_type": "execute_result"
    }
   ],
   "source": [
    "input_tensor.shape,target_tensor.shape"
   ]
  },
  {
   "cell_type": "code",
   "execution_count": 25,
   "metadata": {},
   "outputs": [
    {
     "name": "stdout",
     "output_type": "stream",
     "text": [
      "24000 6000\n"
     ]
    }
   ],
   "source": [
    "# 切分训练集与验证集\n",
    "input_tensor_train,input_tensor_val,target_tensor_train,target_tensor_val=\\\n",
    "train_test_split(input_tensor,target_tensor,test_size=0.2)\n",
    "print(len(input_tensor_train),len(input_tensor_val))"
   ]
  },
  {
   "cell_type": "code",
   "execution_count": 43,
   "metadata": {},
   "outputs": [],
   "source": [
    "def convert(lang_tokenizer,tensor):\n",
    "    for t in tensor:\n",
    "        if t!=0:\n",
    "            print('{} ---> {}'.format(t,lang_tokenizer.index_word[t]))"
   ]
  },
  {
   "cell_type": "code",
   "execution_count": 46,
   "metadata": {},
   "outputs": [
    {
     "name": "stdout",
     "output_type": "stream",
     "text": [
      "input language:index to word\n",
      "1 ---> <start>\n",
      "17 ---> se\n",
      "47 ---> estaba\n",
      "7901 ---> oscureciendo\n",
      "3 ---> .\n",
      "2 ---> <end>\n",
      "target language:index to word\n",
      "1 ---> <start>\n",
      "9 ---> it\n",
      "26 ---> was\n",
      "349 ---> getting\n",
      "554 ---> dark\n",
      "3 ---> .\n",
      "2 ---> <end>\n"
     ]
    }
   ],
   "source": [
    "print(\"input language:index to word\")\n",
    "convert(input_lang_tokenizer,input_tensor_train[23])\n",
    "print('target language:index to word')\n",
    "convert(target_lang_tokenizer,target_tensor_train[23])"
   ]
  },
  {
   "cell_type": "code",
   "execution_count": 88,
   "metadata": {},
   "outputs": [],
   "source": [
    "# 使用tf.data创建数据集\n",
    "Buffer_size=len(input_tensor_train)\n",
    "Batch_size=64\n",
    "steps_per_epoch=len(input_tensor_train)//Batch_size\n",
    "embedding_dim=256\n",
    "units=1024\n",
    "# 加一是因为用了padding（0）\n",
    "vocab_input_size=len(input_lang_tokenizer.word_index)+1\n",
    "vocab_target_size=len(target_lang_tokenizer.word_index)+1\n",
    "dataset=tf.data.Dataset.from_tensor_slices((input_tensor_train,target_tensor_train)).shuffle(Buffer_size)\n",
    "# 最后形成不了一个batch的丢弃  drop_remainder\n",
    "dataset=dataset.batch(Batch_size,drop_remainder=True)\n",
    "\n"
   ]
  },
  {
   "cell_type": "code",
   "execution_count": 48,
   "metadata": {},
   "outputs": [
    {
     "data": {
      "text/plain": [
       "(TensorShape([64, 16]), TensorShape([64, 11]))"
      ]
     },
     "execution_count": 48,
     "metadata": {},
     "output_type": "execute_result"
    }
   ],
   "source": [
    "example_input_batch,example_target_batch=next(iter(dataset))\n",
    "example_input_batch.shape,example_target_batch.shape"
   ]
  },
  {
   "cell_type": "markdown",
   "metadata": {},
   "source": [
    "## 创建encoder与decoder"
   ]
  },
  {
   "cell_type": "markdown",
   "metadata": {},
   "source": [
    "使用的是Bahdanau注意力模型\n",
    "![img](./pic/attention1.png)\n",
    "论文中底层使用双向RNN（这里使用的单向GRU）\n"
   ]
  },
  {
   "cell_type": "markdown",
   "metadata": {},
   "source": [
    "模型公式如下定义：\n",
    "- FC = 完全连接（密集）层\n",
    "- EO = 编码器输出\n",
    "- H = 解码器隐藏层状态\n",
    "- X = 解码器输入.对应于翻译目标在该时间步的tensor，经过嵌入层之后变为输入词的嵌入词向量"
   ]
  },
  {
   "cell_type": "markdown",
   "metadata": {},
   "source": [
    "- score=FC(tanh(Fc(EO)+(FC(H)))\n",
    "- attention weights=softmax(score,axis=1).注意axis=1。因为softmax默认计算最后一个轴。 因为分数 （score） 的形状是 (批大小，最大长度，1)。最大长度 （max_length） 是我们的输入的长度。因为我们想为每个输入分配一个权重，所以 softmax 应该用在这个轴上。\n",
    "- context vector = sum(attention weights * EO, axis = 1)\n",
    "- embedding output = 解码器输入 X 通过一个嵌入层。\n",
    "- merged vector = concat(embedding output, context vector)"
   ]
  },
  {
   "cell_type": "code",
   "execution_count": 55,
   "metadata": {},
   "outputs": [],
   "source": [
    "class Encoder(tf.keras.Model):\n",
    "    def __init__(self,vocab_size,embedding_dim,encoder_units,batch_size):\n",
    "        super(Encoder,self).__init__()\n",
    "        self.batch_size=batch_size\n",
    "        self.encoder_units=encoder_units\n",
    "        self.embedding=tf.keras.layers.Embedding(vocab_size,embedding_dim)\n",
    "        self.gru=tf.keras.layers.GRU(self.encoder_units,\n",
    "                                    return_sequences=True,\n",
    "                                    return_state=True,\n",
    "                                    recurrent_initializer='glorot_uniform')\n",
    "    \n",
    "    def call(self,x,hidden):\n",
    "        x=self.embedding(x)\n",
    "        output,state=self.gru(x,initial_state=hidden)\n",
    "        return output,state\n",
    "    def initialize_hidden_state(self):\n",
    "        return tf.zeros((self.batch_size,self.encoder_units))\n",
    "        "
   ]
  },
  {
   "cell_type": "code",
   "execution_count": 56,
   "metadata": {},
   "outputs": [
    {
     "name": "stdout",
     "output_type": "stream",
     "text": [
      "Encoder output shape: (batch size, sequence length, units) (64, 16, 1024)\n",
      "Encoder Hidden state shape: (batch size, units) (64, 1024)\n"
     ]
    }
   ],
   "source": [
    "encoder=Encoder(vocab_input_size,embedding_dim,units,Batch_size)\n",
    "# 样本输入\n",
    "sample_hidden=encoder.initialize_hidden_state()\n",
    "sample_output,sample_hidden=encoder(example_input_batch,sample_hidden)\n",
    "print ('Encoder output shape: (batch size, sequence length, units) {}'.format(sample_output.shape))\n",
    "print ('Encoder Hidden state shape: (batch size, units) {}'.format(sample_hidden.shape))"
   ]
  },
  {
   "cell_type": "code",
   "execution_count": 71,
   "metadata": {},
   "outputs": [
    {
     "name": "stdout",
     "output_type": "stream",
     "text": [
      "(1, 3, 2)\n",
      "tf.Tensor(\n",
      "[[[0.09003057 0.21194157]\n",
      "  [0.24472848 0.5761169 ]\n",
      "  [0.66524094 0.21194157]]], shape=(1, 3, 2), dtype=float32)\n",
      "tf.Tensor(\n",
      "[[[0.5        0.5       ]\n",
      "  [0.5        0.5       ]\n",
      "  [0.880797   0.11920291]]], shape=(1, 3, 2), dtype=float32)\n"
     ]
    }
   ],
   "source": [
    "a=tf.Variable([[[1,1],[2,2],[3,1]]])\n",
    "a=tf.cast(a,tf.float32)\n",
    "print(a.shape)\n",
    "print(tf.nn.softmax(a,axis=1))\n",
    "print(tf.nn.softmax(a,axis=2))"
   ]
  },
  {
   "cell_type": "code",
   "execution_count": 161,
   "metadata": {},
   "outputs": [],
   "source": [
    "class Attention(tf.keras.layers.Layer):\n",
    "    def __init__(self,units):\n",
    "        super(Attention,self).__init__()\n",
    "        self.W1=tf.keras.layers.Dense(units)\n",
    "        self.W2=tf.keras.layers.Dense(units)\n",
    "        self.V=tf.keras.layers.Dense(1)\n",
    "    def call(self,query,values):\n",
    "        # query是decoder隐藏层状态，values是encoder的输出\n",
    "        # 使用的 decoder的hidden-state和output计算score\n",
    "        \n",
    "        # hidden_state.shape=(batch_size,units)\n",
    "        # hidden_state_with_time_axis.shape=(batch_size,1,units)\n",
    "        # 这样方便执行加法计算分数\n",
    "        hidden_state_with_time_axis=tf.expand_dims(query,1)\n",
    "        # 分数的形状 == （批大小，最大长度，1）\n",
    "        # 我们在最后一个轴上得到 1， 因为我们把分数应用于 self.V\n",
    "        # 在应用 self.V 之前，张量的形状是（批大小，最大长度，units(设置在init函数中））\n",
    "        score=self.V(tf.nn.tanh(self.W1(values)+ self.W2(hidden_state_with_time_axis)))\n",
    "        \n",
    "        # attention_weights.shape = （批大小，最大长度，1）\n",
    "        # 注意是axis=1 在第二个维度上\n",
    "        attention_weights=tf.nn.softmax(score,axis=1)\n",
    "        \n",
    "        # contect_vector.shape=(批大小，隐藏层大小）\n",
    "        context_vector=tf.reduce_sum(attention_weights*values,axis=1)\n",
    "        \n",
    "        return context_vector,attention_weights"
   ]
  },
  {
   "cell_type": "code",
   "execution_count": 162,
   "metadata": {},
   "outputs": [
    {
     "name": "stdout",
     "output_type": "stream",
     "text": [
      "Attention result shape: (batch size, units) (64, 1024)\n",
      "Attention weights shape: (batch_size, sequence_length, 1) (64, 16, 1)\n"
     ]
    }
   ],
   "source": [
    "attention_layer = Attention(10)\n",
    "attention_vector, attention_weights = attention_layer(sample_hidden, sample_output)\n",
    "print(\"Attention result shape: (batch size, units) {}\".format(attention_vector.shape))\n",
    "print(\"Attention weights shape: (batch_size, sequence_length, 1) {}\".format(attention_weights.shape))"
   ]
  },
  {
   "cell_type": "code",
   "execution_count": 163,
   "metadata": {},
   "outputs": [],
   "source": [
    "class Decoder(tf.keras.Model):\n",
    "    def __init__(self,vocab_size,embedding_dim,decoder_units,batch_size):\n",
    "        super(Decoder,self).__init__()\n",
    "        self.batch_size=batch_size\n",
    "        self.decoder_units=decoder_units\n",
    "        self.embedding=tf.keras.layers.Embedding(vocab_size,embedding_dim)\n",
    "        self.gru=tf.keras.layers.GRU(self.decoder_units,\n",
    "                                    return_sequences=True,\n",
    "                                    return_state=True,\n",
    "                                    recurrent_initializer='glorot_uniform')\n",
    "        self.fc=tf.keras.layers.Dense(vocab_size)\n",
    "        \n",
    "        self.attention=Attention(self.decoder_units)\n",
    "        \n",
    "    def call(self,x,hidden_state,encoder_output):\n",
    "        # 这个参数x是decoder的输入，对应每一个时间步的翻译目标值\n",
    "        # hidden代表的是decoder自己的hidden-state\n",
    "        # decoder-hidden-state与encoder-output两个向量迎来计算出得分，从而获得attention-weights\n",
    "        \n",
    "        # encoder_output.shape=(批大小，最大长度，隐藏层大小)\n",
    "        context_vector, attention_weights=self.attention(hidden_state,encoder_output)\n",
    "        # x是上层解码器的输入，通过嵌入层之后维度为（批大小，1，嵌入维度）\n",
    "        x=self.embedding(x)\n",
    "        \n",
    "        # x进行拼接（concatenation）之后shape为（批大小，1，嵌入维度+隐藏层大小）\n",
    "        # context_vector.shape=(batch_size,units)\n",
    "        x=tf.concat([tf.expand_dims(context_vector,1),x],axis=-1)\n",
    "        \n",
    "        # 将合并后的向量传到解码器的GRU\n",
    "        output,state=self.gru(x)\n",
    "        \n",
    "        # 输出的形状(reshape前）=(批大小，1,隐藏层大小)\n",
    "        # 输出的形状(reshape后）=(批大小,隐藏层大小)\n",
    "        output=tf.reshape(output,(-1,output.shape[2]))\n",
    "        \n",
    "        # 输出的形状 == （批大小，vocab）\n",
    "        x = self.fc(output)\n",
    "\n",
    "        return x, state, attention_weights"
   ]
  },
  {
   "cell_type": "code",
   "execution_count": 164,
   "metadata": {},
   "outputs": [
    {
     "name": "stdout",
     "output_type": "stream",
     "text": [
      "(64, 1024) (64, 16, 1)\n",
      "Decoder output shape: (batch_size, vocab size) (64, 4834)\n"
     ]
    }
   ],
   "source": [
    "decoder = Decoder(vocab_target_size, embedding_dim, units, Batch_size)\n",
    "\n",
    "sample_decoder_output, a, b = decoder(tf.random.uniform((64, 1)),\n",
    "                                      sample_hidden, sample_output)\n",
    "print(a.shape,b.shape)\n",
    "print ('Decoder output shape: (batch_size, vocab size) {}'.format(sample_decoder_output.shape))"
   ]
  },
  {
   "cell_type": "markdown",
   "metadata": {},
   "source": [
    "### 定义优化器，损失函数"
   ]
  },
  {
   "cell_type": "code",
   "execution_count": 165,
   "metadata": {},
   "outputs": [],
   "source": [
    "optimizer=tf.keras.optimizers.Adam()\n",
    "# y_true: Ground truth values. shape = [batch_size, d0, .. dN]\n",
    "# y_pred: The predicted values. shape = [batch_size, d0, .. dN]\n",
    "# recuction=none，那么返回的损失是[batch_size, d0, .. dN-1]（(Note dN-1 because all loss functions reduce by 1 dimension, usually axis=-1.)）\n",
    "# 否则返回的损失是一个常量，\n",
    "loss_object=tf.keras.losses.SparseCategoricalCrossentropy(from_logits=True,reduction='none')\n",
    "\n",
    "def loss_function(y_true,y_pred):\n",
    "    # 标记出来padding 0 所在的位置下标\n",
    "    # 最后在与loss相乘的时候省略padding位置所产生的loss\n",
    "    mask=tf.math.logical_not(tf.math.equal(y_true,0))\n",
    "    loss=loss_object(y_true,y_pred)\n",
    "    mask=tf.cast(mask,dtype=loss.dtype)\n",
    "    loss*=mask\n",
    "    return tf.reduce_mean(loss)"
   ]
  },
  {
   "cell_type": "markdown",
   "metadata": {},
   "source": [
    "### 检查点"
   ]
  },
  {
   "cell_type": "code",
   "execution_count": 166,
   "metadata": {},
   "outputs": [],
   "source": [
    "checkpoint_dir='./machine_translation_checkpoint'\n",
    "checkpoint_prefix=os.path.join(checkpoint_dir,'ckpt')\n",
    "checkpoint=tf.train.Checkpoint(optimizer=optimizer,\n",
    "                              encoder=encoder,\n",
    "                              decoder=decoder)\n"
   ]
  },
  {
   "cell_type": "markdown",
   "metadata": {},
   "source": [
    "## 训练"
   ]
  },
  {
   "cell_type": "markdown",
   "metadata": {},
   "source": [
    "1. 将 输入 传送至 编码器，编码器返回 编码器输出 和 编码器隐藏层状态。\n",
    "2. 将编码器输出、编码器隐藏层状态和解码器输入（即 开始标记）传送至解码器。\n",
    "3. 解码器返回 预测 和 解码器隐藏层状态。\n",
    "4. 解码器隐藏层状态被传送回模型，预测被用于计算损失。\n",
    "5. 使用 教师强制 （teacher forcing） 决定解码器的下一/个输入。\n",
    "6. 教师强制 是将 目标词 作为 下一个输入 传送至解码器的技术。\n",
    "7. 最后一步是计算梯度，并将其应用于优化器和反向传播。"
   ]
  },
  {
   "cell_type": "code",
   "execution_count": 97,
   "metadata": {},
   "outputs": [
    {
     "data": {
      "text/plain": [
       "TensorShape([64, 1, 16])"
      ]
     },
     "execution_count": 97,
     "metadata": {},
     "output_type": "execute_result"
    }
   ],
   "source": [
    "tf.expand_dims(tf.random.normal((64,16)),1).shape"
   ]
  },
  {
   "cell_type": "code",
   "execution_count": 111,
   "metadata": {},
   "outputs": [],
   "source": [
    "@tf.function\n",
    "def train_step(inp,targ,enc_hidden):\n",
    "    loss=0\n",
    "    \n",
    "    with tf.GradientTape() as tape:\n",
    "        enc_output,enc_hidden=encoder(inp,enc_hidden)\n",
    "        \n",
    "        # 在第一步，decoder-hidden=encoder-hidden老初始化\n",
    "        # 之后，decode-hidden就在每一次解码中更新了\n",
    "        dec_hidden=enc_hidden\n",
    "        \n",
    "        dec_input=tf.expand_dims([target_lang_tokenizer.word_index['<start>']]*Batch_size,1)\n",
    "        \n",
    "        # 教师强制-将目标词作为下一个输入\n",
    "        for t in range(1,targ.shape[1]):\n",
    "            # 将编码器输出传到解码器\n",
    "            predictions,dec_hidden,_=decoder(dec_input,dec_hidden,enc_output)\n",
    "            \n",
    "            loss+=loss_function(targ[:,t],predictions)\n",
    "            \n",
    "            # 使用教师强制\n",
    "            dec_input=tf.expand_dims(targ[:,t],1)\n",
    "        \n",
    "        batch_loss=(loss/int(targ.shape[1]))\n",
    "        \n",
    "        variables=encoder.trainable_variables+decoder.trainable_variables\n",
    "\n",
    "        # 对每一个变量计算梯度\n",
    "        gradients=tape.gradient(loss,variables)\n",
    "        \n",
    "        # Apply gradients to variables\n",
    "        optimizer.apply_gradients(zip(gradients,variables))\n",
    "        return batch_loss\n",
    "            "
   ]
  },
  {
   "cell_type": "code",
   "execution_count": 110,
   "metadata": {},
   "outputs": [
    {
     "name": "stdout",
     "output_type": "stream",
     "text": [
      "Epoch 1 Batch 0 loss: 3.029433488845825\n",
      "Epoch 1 Batch 100 loss: 2.1914610862731934\n",
      "Epoch 1 Batch 200 loss: 1.7751097679138184\n",
      "Epoch 1 Batch 300 loss: 1.5683094263076782\n",
      "Epoch 1 Loss 1.9404\n",
      "Time taken for 1 epoch 428.19849133491516 sec\n",
      "\n",
      "Epoch 2 Batch 0 loss: 1.5071711540222168\n",
      "Epoch 2 Batch 100 loss: 1.511332631111145\n",
      "Epoch 2 Batch 200 loss: 1.4215682744979858\n",
      "Epoch 2 Batch 300 loss: 1.1929481029510498\n",
      "Epoch 2 Loss 1.3614\n",
      "Time taken for 1 epoch 412.7278311252594 sec\n",
      "\n",
      "Epoch 3 Batch 0 loss: 1.0165706872940063\n",
      "Epoch 3 Batch 100 loss: 0.9832627177238464\n",
      "Epoch 3 Batch 200 loss: 0.970638632774353\n",
      "Epoch 3 Batch 300 loss: 0.8129992485046387\n",
      "Epoch 3 Loss 0.9585\n",
      "Time taken for 1 epoch 409.06610584259033 sec\n",
      "\n",
      "Epoch 4 Batch 0 loss: 0.654787540435791\n",
      "Epoch 4 Batch 100 loss: 0.635719895362854\n",
      "Epoch 4 Batch 200 loss: 0.7151980400085449\n",
      "Epoch 4 Batch 300 loss: 0.6077576279640198\n",
      "Epoch 4 Loss 0.6469\n",
      "Time taken for 1 epoch 413.9337651729584 sec\n",
      "\n",
      "Epoch 5 Batch 0 loss: 0.41980913281440735\n",
      "Epoch 5 Batch 100 loss: 0.3786979615688324\n",
      "Epoch 5 Batch 200 loss: 0.47265976667404175\n",
      "Epoch 5 Batch 300 loss: 0.4130556583404541\n",
      "Epoch 5 Loss 0.4378\n",
      "Time taken for 1 epoch 405.1149249076843 sec\n",
      "\n",
      "Epoch 6 Batch 0 loss: 0.2715241611003876\n",
      "Epoch 6 Batch 100 loss: 0.28385868668556213\n",
      "Epoch 6 Batch 200 loss: 0.3162198066711426\n",
      "Epoch 6 Batch 300 loss: 0.305117130279541\n",
      "Epoch 6 Loss 0.3021\n",
      "Time taken for 1 epoch 401.84941697120667 sec\n",
      "\n",
      "Epoch 7 Batch 0 loss: 0.20939844846725464\n",
      "Epoch 7 Batch 100 loss: 0.19741122424602509\n",
      "Epoch 7 Batch 200 loss: 0.20980851352214813\n",
      "Epoch 7 Batch 300 loss: 0.2215273231267929\n",
      "Epoch 7 Loss 0.2182\n",
      "Time taken for 1 epoch 409.911328792572 sec\n",
      "\n",
      "Epoch 8 Batch 0 loss: 0.19710057973861694\n",
      "Epoch 8 Batch 100 loss: 0.11117908358573914\n",
      "Epoch 8 Batch 200 loss: 0.17623507976531982\n",
      "Epoch 8 Batch 300 loss: 0.16273227334022522\n",
      "Epoch 8 Loss 0.1578\n",
      "Time taken for 1 epoch 410.6694779396057 sec\n",
      "\n",
      "Epoch 9 Batch 0 loss: 0.09430627524852753\n",
      "Epoch 9 Batch 100 loss: 0.12324800342321396\n",
      "Epoch 9 Batch 200 loss: 0.14278894662857056\n",
      "Epoch 9 Batch 300 loss: 0.10942284017801285\n",
      "Epoch 9 Loss 0.1223\n",
      "Time taken for 1 epoch 415.9951171875 sec\n",
      "\n",
      "Epoch 10 Batch 0 loss: 0.0808326005935669\n",
      "Epoch 10 Batch 100 loss: 0.11886684596538544\n",
      "Epoch 10 Batch 200 loss: 0.08729703724384308\n",
      "Epoch 10 Batch 300 loss: 0.09437823295593262\n",
      "Epoch 10 Loss 0.0995\n",
      "Time taken for 1 epoch 406.6334636211395 sec\n",
      "\n"
     ]
    }
   ],
   "source": [
    "EPOCHS=10\n",
    "for epoch in range(EPOCHS):\n",
    "    start=time.time()\n",
    "    \n",
    "    enc_hidden=encoder.initialize_hidden_state()\n",
    "    \n",
    "    total_loss=0\n",
    "    \n",
    "    for (batch,(inp,targ)) in enumerate(dataset.take(steps_per_epoch)):\n",
    "        batch_loss=train_step(inp,targ,enc_hidden)\n",
    "        total_loss+=batch_loss\n",
    "     \n",
    "        if batch%100==0:\n",
    "            print(f'Epoch {epoch+1} Batch {batch} loss: {batch_loss.numpy()}')\n",
    "        # 每 2 个周期（epoch），保存（检查点）一次模型\n",
    "    if (epoch + 1) % 2 == 0:\n",
    "        checkpoint.save(file_prefix = checkpoint_prefix)\n",
    "\n",
    "    print('Epoch {} Loss {:.4f}'.format(epoch + 1,\n",
    "                                      total_loss / steps_per_epoch))\n",
    "    print('Time taken for 1 epoch {} sec\\n'.format(time.time() - start))"
   ]
  },
  {
   "cell_type": "markdown",
   "metadata": {},
   "source": [
    "# 翻译"
   ]
  },
  {
   "cell_type": "markdown",
   "metadata": {},
   "source": [
    "- 翻译的时候类似于循环训练，但是我们不使用教师强制（teaching force）来将正确的目标推送到解码器。每个时间步的解码器输入是之前的预测，隐藏层状态与编码器输出\n",
    "- 当模型预测到结束标记（< end >)的时候停止输出\n",
    "- 我们需要存储每一个时间步的attention weights，方便绘制图像"
   ]
  },
  {
   "cell_type": "code",
   "execution_count": 177,
   "metadata": {},
   "outputs": [],
   "source": [
    "def evaluate(sentence):\n",
    "    attention_plot=np.zeros((max_length_target,max_length_input))\n",
    "    # preprocess_sentence\n",
    "    # 在单词符号之间插入空格\n",
    "    # 除了 (a-z, A-Z, \".\", \"?\", \"!\", \",\")，将所有字符替换为空格\n",
    "    sentence=preprocess_sentence(sentence)\n",
    "    \n",
    "    # 将输入文本转为数字编码\n",
    "    inputs=[input_lang_tokenizer.word_index[i] for i in sentence.split(' ')]\n",
    "    # 对输入进行pudding\n",
    "    inputs=tf.keras.preprocessing.sequence.pad_sequences([inputs],maxlen=max_length_input,padding='post')\n",
    "    \n",
    "    # 可以将tf常量，数组，numpy数组转为tensor\n",
    "    inputs=tf.convert_to_tensor(inputs)\n",
    "    \n",
    "    result=''\n",
    "    \n",
    "    enc_hidden=tf.zeros((1,units))\n",
    "    \n",
    "    enc_output,enc_hidden=encoder(inputs,enc_hidden)\n",
    "    \n",
    "    dec_hidden=enc_hidden\n",
    "    # 添加一个维度，变为（1，1）\n",
    "    dec_input=tf.expand_dims([target_lang_tokenizer.word_index['<start>']],0)\n",
    "    \n",
    "    \n",
    "    for t in range(max_length_target):\n",
    "        predictions,dec_hidden,attention_weights=decoder(dec_input,dec_hidden,enc_output)\n",
    "        \n",
    "        # 存储注意力权重，从而进行绘图\n",
    "        attention_weights = tf.reshape(attention_weights, (-1, ))\n",
    "        attention_plot[t]=attention_weights.numpy()\n",
    "        \n",
    "        predicted_index=tf.argmax(predictions[0]).numpy()\n",
    "        result+=target_lang_tokenizer.index_word[predicted_index]+' '\n",
    "        \n",
    "        if target_lang_tokenizer.index_word[predicted_index] == '<end>':\n",
    "            return result, sentence, attention_plot\n",
    "\n",
    "        # 预测的 ID 被输送回模型\n",
    "        dec_input = tf.expand_dims([predicted_index], 0)\n",
    "\n",
    "    return result, sentence, attention_plot"
   ]
  },
  {
   "cell_type": "code",
   "execution_count": 217,
   "metadata": {},
   "outputs": [],
   "source": [
    "# 绘制注意力权重图\n",
    "def plot_attention(attention_plot,sentence,predicted_sentence):\n",
    "    fig=plt.figure(figsize=(3,3))\n",
    "    ax=fig.add_subplot(1,1,1)\n",
    "    ax.matshow(attention_plot,cmap='viridis')\n",
    "    \n",
    "    fontdict={'fontsize':14}\n",
    "    \n",
    "    ax.set_xticklabels([''] + sentence, fontdict=fontdict, rotation=90)\n",
    "    ax.set_yticklabels([''] + predicted_sentence, fontdict=fontdict)\n",
    "\n",
    "    ax.xaxis.set_major_locator(ticker.MultipleLocator(1))\n",
    "    ax.yaxis.set_major_locator(ticker.MultipleLocator(1))\n",
    "\n",
    "    plt.show()"
   ]
  },
  {
   "cell_type": "code",
   "execution_count": 218,
   "metadata": {},
   "outputs": [],
   "source": [
    "def translate(sentence):\n",
    "    # attention-plot维度是 （max_length_target，max-length-input）\n",
    "    result,sentence,attention_plot=evaluate(sentence)\n",
    "    \n",
    "    print(f'Input is: {sentence}')\n",
    "    print(f' My Translation is: {result}')\n",
    "    \n",
    "    # 截去没有用的维度，\n",
    "    attention_plot=attention_plot[:len(result.split(' ')),:len(sentence.split(' '))]\n",
    "    \n",
    "    plot_attention(attention_plot,sentence.split(' '),result.split(' '))"
   ]
  },
  {
   "cell_type": "markdown",
   "metadata": {},
   "source": [
    "## 从检查点恢复模型"
   ]
  },
  {
   "cell_type": "code",
   "execution_count": 219,
   "metadata": {},
   "outputs": [
    {
     "data": {
      "text/plain": [
       "<tensorflow.python.training.tracking.util.CheckpointLoadStatus at 0x1508282b0>"
      ]
     },
     "execution_count": 219,
     "metadata": {},
     "output_type": "execute_result"
    }
   ],
   "source": [
    "# 恢复检查点目录 （checkpoint_dir） 中最新的检查点\n",
    "checkpoint.restore(tf.train.latest_checkpoint(checkpoint_dir))"
   ]
  },
  {
   "cell_type": "code",
   "execution_count": 220,
   "metadata": {},
   "outputs": [
    {
     "name": "stdout",
     "output_type": "stream",
     "text": [
      "Googole translation: It's cold outside.\n",
      "Input is: <start> hace frio afuera . <end>\n",
      " My Translation is: it s cold outside . <end> \n"
     ]
    },
    {
     "data": {
      "image/png": "[encoded data removed]",
      "text/plain": [
       "<Figure size 216x216 with 1 Axes>"
      ]
     },
     "metadata": {
      "needs_background": "light"
     },
     "output_type": "display_data"
    }
   ],
   "source": [
    "print(\"Googole translation: It's cold outside.\")\n",
    "translate('Hace frío afuera.')"
   ]
  },
  {
   "cell_type": "code",
   "execution_count": 221,
   "metadata": {},
   "outputs": [
    {
     "name": "stdout",
     "output_type": "stream",
     "text": [
      "Input is: <start> ¿ todavia estan en casa ? <end>\n",
      " My Translation is: are you still at home ? <end> \n"
     ]
    },
    {
     "data": {
      "image/png": "[encoded data removed]",
      "text/plain": [
       "<Figure size 216x216 with 1 Axes>"
      ]
     },
     "metadata": {
      "needs_background": "light"
     },
     "output_type": "display_data"
    }
   ],
   "source": [
    "print(\"Googole translation: are you still at home ?\")\n",
    "translate('¿ todavia estan en casa ? ')"
   ]
  },
  {
   "cell_type": "code",
   "execution_count": 226,
   "metadata": {},
   "outputs": [
    {
     "name": "stdout",
     "output_type": "stream",
     "text": [
      "Googole translation: because the virus I can't go out\n",
      "Input is: <start> no puedo salir porque el virus <end>\n",
      " My Translation is: i can t go anywhere . <end> \n"
     ]
    },
    {
     "data": {
      "image/png": "[encoded data removed]",
      "text/plain": [
       "<Figure size 216x216 with 1 Axes>"
      ]
     },
     "metadata": {
      "needs_background": "light"
     },
     "output_type": "display_data"
    }
   ],
   "source": [
    "print(\"Googole translation: because the virus I can't go out\")\n",
    "translate('No puedo salir porque el virus')"
   ]
  },
  {
   "cell_type": "code",
   "execution_count": null,
   "metadata": {},
   "outputs": [],
   "source": []
  }
 ],
 "metadata": {
  "kernelspec": {
   "display_name": "Python 3",
   "language": "python",
   "name": "python3"
  },
  "language_info": {
   "codemirror_mode": {
    "name": "ipython",
    "version": 3
   },
   "file_extension": ".py",
   "mimetype": "text/x-python",
   "name": "python",
   "nbconvert_exporter": "python",
   "pygments_lexer": "ipython3",
   "version": "3.7.3"
  }
 },
 "nbformat": 4,
 "nbformat_minor": 2
}
